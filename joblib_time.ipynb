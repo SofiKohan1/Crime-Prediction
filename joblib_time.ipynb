{
 "cells": [
  {
   "cell_type": "code",
   "execution_count": 1,
   "metadata": {},
   "outputs": [],
   "source": [
    "# Data, Datasets & Utils\n",
    "import pandas as pd\n",
    "from pandas.plotting import scatter_matrix\n",
    "import pprint\n",
    "import numpy as np\n",
    "from time import time\n",
    "from numpy import log2 as log\n",
    "\n",
    "# Validation methods\n",
    "from sklearn.model_selection import train_test_split\n",
    "from sklearn.model_selection import cross_val_score\n",
    "from sklearn.model_selection import cross_validate\n",
    "from sklearn.model_selection import StratifiedKFold\n",
    "from sklearn.model_selection import train_test_split\n",
    "\n",
    "# Metrics\n",
    "from sklearn import metrics\n",
    "from sklearn.metrics import make_scorer\n",
    "from sklearn.metrics import accuracy_score\n",
    "from sklearn.metrics import precision_score\n",
    "from sklearn.metrics import recall_score\n",
    "from sklearn.metrics import confusion_matrix\n",
    "\n",
    "# Classifiers\n",
    "from sklearn.neighbors import KNeighborsClassifier\n",
    "from sklearn import tree\n",
    "from sklearn.tree import DecisionTreeClassifier\n",
    "from sklearn.ensemble import RandomForestClassifier\n",
    "from sklearn.naive_bayes import GaussianNB\n",
    "from sklearn.naive_bayes import MultinomialNB\n",
    "from sklearn.naive_bayes import BernoulliNB\n",
    "\n",
    "\n",
    "# Hyper-parameter optimisation\n",
    "from sklearn.model_selection import GridSearchCV\n",
    "from sklearn.model_selection import RandomizedSearchCV\n",
    "\n",
    "# Feature selection & feature engineering\n",
    "from sklearn.feature_selection import RFE\n",
    "from sklearn.feature_selection import RFECV\n",
    "from sklearn.decomposition import PCA\n",
    "from sklearn import preprocessing\n",
    "from sklearn.preprocessing import MinMaxScaler\n",
    "\n",
    "# Stats\n",
    "from scipy.stats import randint as sp_randint\n",
    "from scipy.stats import pearsonr\n",
    "from scipy.stats import spearmanr\n",
    "from scipy.stats import shapiro     # Shapiro Wilk\n",
    "from scipy.stats import normaltest  # D’Agostino’s K^2\n",
    "from scipy.stats import anderson    # Anderson-Darling\n",
    "from scipy.stats import ttest_ind    # independent student t-test; assumes normality\n",
    "from scipy.stats import mannwhitneyu # non-parametric; doesn't assume normality\n",
    "\n",
    "# Visualisation\n",
    "import matplotlib.pyplot as plot \n",
    "import seaborn as sns\n",
    "from IPython.display import SVG\n",
    "from graphviz import Source\n",
    "from IPython.display import display\n",
    "from sklearn.tree import export_graphviz\n"
   ]
  },
  {
   "cell_type": "code",
   "execution_count": 2,
   "metadata": {},
   "outputs": [],
   "source": [
    "%matplotlib inline"
   ]
  },
  {
   "cell_type": "code",
   "execution_count": 3,
   "metadata": {},
   "outputs": [],
   "source": [
    "import matplotlib.pyplot as plt\n",
    "import numpy as np\n",
    "import pandas as pd\n",
    "import seaborn as sns\n",
    "from sklearn import preprocessing\n",
    "from sklearn.preprocessing import StandardScaler\n",
    "from sklearn.preprocessing import MinMaxScaler\n",
    "from sklearn.model_selection import train_test_split\n",
    "from sklearn.neighbors import KNeighborsClassifier\n",
    "from collections import defaultdict\n",
    "from sklearn.metrics import classification_report\n",
    "from sklearn.model_selection import RepeatedStratifiedKFold \n",
    "from sklearn.model_selection import cross_val_predict\n",
    "from collections import Counter\n",
    "import dask.array as da\n",
    "import dask.dataframe"
   ]
  },
  {
   "cell_type": "code",
   "execution_count": 4,
   "metadata": {},
   "outputs": [],
   "source": [
    "#now lets do the same but with dask\n",
    "from dask.distributed import LocalCluster\n",
    "from dask.distributed import Client\n",
    "import joblib\n",
    "import dask.dataframe\n",
    "from dask_ml.model_selection import train_test_split\n",
    "from dask_ml.preprocessing import StandardScaler\n",
    "from dask_ml import preprocessing\n",
    "from sklearn.metrics import plot_confusion_matrix"
   ]
  },
  {
   "cell_type": "code",
   "execution_count": 5,
   "metadata": {},
   "outputs": [],
   "source": [
    "#loading data file\n",
    "df_sf = pd.read_csv('Datasets\\Police_Department_Incidents.csv')"
   ]
  },
  {
   "cell_type": "code",
   "execution_count": 6,
   "metadata": {},
   "outputs": [
    {
     "data": {
      "text/plain": [
       "IncidntNum    0\n",
       "Category      0\n",
       "Descript      0\n",
       "DayOfWeek     0\n",
       "Date          0\n",
       "Time          0\n",
       "PdDistrict    0\n",
       "Resolution    0\n",
       "Address       0\n",
       "X             0\n",
       "Y             0\n",
       "Location      0\n",
       "PdId          0\n",
       "dtype: int64"
      ]
     },
     "execution_count": 6,
     "metadata": {},
     "output_type": "execute_result"
    }
   ],
   "source": [
    "df_sf = df_sf.dropna()\n",
    "df_sf.isnull().sum() "
   ]
  },
  {
   "cell_type": "code",
   "execution_count": 7,
   "metadata": {},
   "outputs": [
    {
     "name": "stdout",
     "output_type": "stream",
     "text": [
      "<class 'pandas.core.frame.DataFrame'>\n",
      "Int64Index: 150499 entries, 0 to 150499\n",
      "Data columns (total 12 columns):\n",
      " #   Column      Non-Null Count   Dtype  \n",
      "---  ------      --------------   -----  \n",
      " 0   Category    150499 non-null  object \n",
      " 1   Descript    150499 non-null  object \n",
      " 2   DayOfWeek   150499 non-null  object \n",
      " 3   Date        150499 non-null  object \n",
      " 4   Time        150499 non-null  object \n",
      " 5   PdDistrict  150499 non-null  object \n",
      " 6   Resolution  150499 non-null  object \n",
      " 7   Address     150499 non-null  object \n",
      " 8   X           150499 non-null  float64\n",
      " 9   Y           150499 non-null  float64\n",
      " 10  Location    150499 non-null  object \n",
      " 11  PdId        150499 non-null  float64\n",
      "dtypes: float64(3), object(9)\n",
      "memory usage: 14.9+ MB\n"
     ]
    }
   ],
   "source": [
    "df_coor = df_sf.drop(columns=['IncidntNum'])\n",
    "df_coor.info()"
   ]
  },
  {
   "cell_type": "code",
   "execution_count": 8,
   "metadata": {},
   "outputs": [
    {
     "data": {
      "text/plain": [
       "Index(['Category', 'Descript', 'DayOfWeek', 'Date', 'Time', 'PdDistrict',\n",
       "       'Resolution', 'Address', 'Location'],\n",
       "      dtype='object')"
      ]
     },
     "execution_count": 8,
     "metadata": {},
     "output_type": "execute_result"
    }
   ],
   "source": [
    "sel = df_coor.select_dtypes(exclude=['float64']).columns \n",
    "sel "
   ]
  },
  {
   "cell_type": "code",
   "execution_count": 9,
   "metadata": {},
   "outputs": [],
   "source": [
    "#encoding objects\n",
    "encode = defaultdict(preprocessing.LabelEncoder)\n",
    "df_coor[sel] = df_coor[sel].apply(lambda x: encode[x.name].fit_transform(x.astype(str)))"
   ]
  },
  {
   "cell_type": "code",
   "execution_count": 10,
   "metadata": {},
   "outputs": [],
   "source": [
    "#separating the class from the \n",
    "X = df_coor[[ 'Date', 'Time', 'Address', 'X', 'Y', 'Location', 'Category']]\n",
    "y = df_coor['PdDistrict']"
   ]
  },
  {
   "cell_type": "code",
   "execution_count": 11,
   "metadata": {},
   "outputs": [
    {
     "data": {
      "application/vnd.jupyter.widget-view+json": {
       "model_id": "d659c2d96c104d7a8434fc6e9ebed02a",
       "version_major": 2,
       "version_minor": 0
      },
      "text/plain": [
       "VBox(children=(HTML(value='<h2>LocalCluster</h2>'), HBox(children=(HTML(value='\\n<div>\\n  <style scoped>\\n    …"
      ]
     },
     "metadata": {},
     "output_type": "display_data"
    }
   ],
   "source": [
    "from dask.distributed import LocalCluster\n",
    "cluster = LocalCluster()\n",
    "cluster"
   ]
  },
  {
   "cell_type": "code",
   "execution_count": 12,
   "metadata": {},
   "outputs": [
    {
     "data": {
      "text/html": [
       "<table style=\"border: 2px solid white;\">\n",
       "<tr>\n",
       "<td style=\"vertical-align: top; border: 0px solid white\">\n",
       "<h3 style=\"text-align: left;\">Client</h3>\n",
       "<ul style=\"text-align: left; list-style: none; margin: 0; padding: 0;\">\n",
       "  <li><b>Scheduler: </b>tcp://127.0.0.1:50180</li>\n",
       "  <li><b>Dashboard: </b><a href='http://127.0.0.1:8787/status' target='_blank'>http://127.0.0.1:8787/status</a></li>\n",
       "</ul>\n",
       "</td>\n",
       "<td style=\"vertical-align: top; border: 0px solid white\">\n",
       "<h3 style=\"text-align: left;\">Cluster</h3>\n",
       "<ul style=\"text-align: left; list-style:none; margin: 0; padding: 0;\">\n",
       "  <li><b>Workers: </b>4</li>\n",
       "  <li><b>Cores: </b>8</li>\n",
       "  <li><b>Memory: </b>15.88 GiB</li>\n",
       "</ul>\n",
       "</td>\n",
       "</tr>\n",
       "</table>"
      ],
      "text/plain": [
       "<Client: 'tcp://127.0.0.1:50180' processes=4 threads=8, memory=15.88 GiB>"
      ]
     },
     "execution_count": 12,
     "metadata": {},
     "output_type": "execute_result"
    }
   ],
   "source": [
    "from dask.distributed import Client\n",
    "client = Client(cluster)\n",
    "client"
   ]
  },
  {
   "cell_type": "code",
   "execution_count": 13,
   "metadata": {},
   "outputs": [
    {
     "name": "stdout",
     "output_type": "stream",
     "text": [
      "{'estimator': [KNeighborsClassifier(),\n",
      "               KNeighborsClassifier(),\n",
      "               KNeighborsClassifier(),\n",
      "               KNeighborsClassifier(),\n",
      "               KNeighborsClassifier(),\n",
      "               KNeighborsClassifier()],\n",
      " 'fit_time': array([1.02012801, 0.7781589 , 0.92677641, 0.83481002, 0.82204223,\n",
      "       0.97402716]),\n",
      " 'score_time': array([ 6.80327129,  8.05861831,  8.86705136, 11.7331419 ,  9.78627133,\n",
      "       15.48223591]),\n",
      " 'test_score': array([0.82518737, 0.82522027, 0.80257545, 0.79994419, 0.80082127,\n",
      "       0.8017781 ]),\n",
      " 'train_score': array([0.89204641, 0.89211903, 0.89464662, 0.89496555, 0.89660809,\n",
      "       0.89707055])}\n",
      "\n",
      "\n",
      "\n",
      "Accuracy (Training): 0.89 (+/- 0.00)\n",
      "\n",
      "\n",
      "Accuracy (Testing):  0.81 (+/- 0.02)\n",
      "\n",
      "\n",
      "[[10496     0  1275  1229    20   239    59    98   887     0]\n",
      " [    0 15960     0     0   942     0    25   717     0    22]\n",
      " [ 1684     0  8715    45     0    28     0     6  1116     0]\n",
      " [  849     0    51 17517    57   625    27   115   262     0]\n",
      " [   14  1238     0    93 15736   375   413  1646     0   585]\n",
      " [  313     1    63  1065   562  5097   274  1046   238    40]\n",
      " [   27   179     0    72   763   336  6142  1150    21   232]\n",
      " [  105   847    10   225  1348   737   982 23404     0   787]\n",
      " [ 1225     0  1427   681     2   174    25     0  7791     0]\n",
      " [    0    78     0     0   447    16    47   573     1  8780]]\n",
      "\n",
      "\n",
      "              precision    recall  f1-score   support\n",
      "\n",
      "           0       0.71      0.73      0.72     14303\n",
      "           1       0.87      0.90      0.89     17666\n",
      "           2       0.76      0.75      0.75     11594\n",
      "           3       0.84      0.90      0.87     19503\n",
      "           4       0.79      0.78      0.79     20100\n",
      "           5       0.67      0.59      0.62      8699\n",
      "           6       0.77      0.69      0.73      8922\n",
      "           7       0.81      0.82      0.82     28445\n",
      "           8       0.76      0.69      0.72     11325\n",
      "           9       0.84      0.88      0.86      9942\n",
      "\n",
      "    accuracy                           0.79    150499\n",
      "   macro avg       0.78      0.77      0.78    150499\n",
      "weighted avg       0.79      0.79      0.79    150499\n",
      "\n",
      "Wall time: 1min 20s\n"
     ]
    }
   ],
   "source": [
    "%%time\n",
    "#K-Nearest Neighbor Classifier scaled up?\n",
    "with joblib.parallel_backend('dask'):\n",
    "    predicting_district = KNeighborsClassifier(n_neighbors=5)\n",
    "    predicting_district.fit(X, y)\n",
    "\n",
    "    scores = cross_validate(predicting_district, X, y, cv=6, return_train_score=True, return_estimator=True)\n",
    "    y_pred = cross_val_predict(predicting_district, X, y, cv=3)\n",
    "\n",
    "    #Printing results\n",
    "    pprint.pprint(scores)\n",
    "    print()\n",
    "    print('\\n')\n",
    "    print(\"Accuracy (Training): %0.2f (+/- %0.2f)\" % (scores['train_score'].mean(), scores['train_score'].std() * 2))\n",
    "    print('\\n')\n",
    "    print(\"Accuracy (Testing):  %0.2f (+/- %0.2f)\" % (scores['test_score'].mean(), scores['test_score'].std() * 2))\n",
    "    print('\\n')\n",
    "    kung_fu_sion = confusion_matrix(y, y_pred)\n",
    "    print(kung_fu_sion)\n",
    "    report = classification_report(y, y_pred)\n",
    "    print('\\n')\n",
    "    print(report)\n",
    "    \n",
    "    "
   ]
  },
  {
   "cell_type": "code",
   "execution_count": 14,
   "metadata": {},
   "outputs": [
    {
     "name": "stdout",
     "output_type": "stream",
     "text": [
      "{'estimator': [KNeighborsClassifier(n_neighbors=10),\n",
      "               KNeighborsClassifier(n_neighbors=10),\n",
      "               KNeighborsClassifier(n_neighbors=10),\n",
      "               KNeighborsClassifier(n_neighbors=10),\n",
      "               KNeighborsClassifier(n_neighbors=10),\n",
      "               KNeighborsClassifier(n_neighbors=10)],\n",
      " 'fit_time': array([2.53101254, 1.02164674, 1.38714767, 1.59076238, 1.01818132,\n",
      "       1.02609062]),\n",
      " 'score_time': array([12.7243185 , 10.17077279, 10.36648846, 13.43763018, 13.33828211,\n",
      "       13.59990597]),\n",
      " 'test_score': array([0.81326742, 0.80943268, 0.79057529, 0.78722641, 0.78595064,\n",
      "       0.78048878]),\n",
      " 'train_score': array([0.84611889, 0.84529885, 0.84987561, 0.8487992 , 0.85057728,\n",
      "       0.85069688])}\n",
      "\n",
      "\n",
      "\n",
      "Accuracy (Training): 0.85 (+/- 0.00)\n",
      "\n",
      "\n",
      "Accuracy (Testing):  0.79 (+/- 0.02)\n",
      "\n",
      "\n",
      "[[10289     0  1235  1539    15   250    68   111   796     0]\n",
      " [    0 16088     0     0   817     0    17   721     0    23]\n",
      " [ 1820     0  8703    40     0    23     0     5  1003     0]\n",
      " [  764     0    61 17781    40   563    37   109   148     0]\n",
      " [    8  1489     0   101 15273   395   357  1866     0   611]\n",
      " [  279     2    77  1298   602  4650   239  1238   258    56]\n",
      " [   25   214     0    72   866   344  5867  1239    21   274]\n",
      " [  111  1006     9   259  1503   802  1116 22786     1   852]\n",
      " [ 1290     0  1621   825     0   156    19     0  7414     0]\n",
      " [    0    86     0     0   489    11    51   668     1  8636]]\n",
      "\n",
      "\n",
      "              precision    recall  f1-score   support\n",
      "\n",
      "           0       0.71      0.72      0.71     14303\n",
      "           1       0.85      0.91      0.88     17666\n",
      "           2       0.74      0.75      0.75     11594\n",
      "           3       0.81      0.91      0.86     19503\n",
      "           4       0.78      0.76      0.77     20100\n",
      "           5       0.65      0.53      0.59      8699\n",
      "           6       0.75      0.66      0.70      8922\n",
      "           7       0.79      0.80      0.80     28445\n",
      "           8       0.77      0.65      0.71     11325\n",
      "           9       0.83      0.87      0.85      9942\n",
      "\n",
      "    accuracy                           0.78    150499\n",
      "   macro avg       0.77      0.76      0.76    150499\n",
      "weighted avg       0.78      0.78      0.78    150499\n",
      "\n",
      "Wall time: 1min\n"
     ]
    }
   ],
   "source": [
    "%%time\n",
    "#K-Nearest Neighbor Classifier scaled up?\n",
    "with joblib.parallel_backend('dask'):\n",
    "    predicting_district = KNeighborsClassifier(n_neighbors=10)\n",
    "    predicting_district.fit(X, y)\n",
    "\n",
    "    scores = cross_validate(predicting_district, X, y, cv=6, return_train_score=True, return_estimator=True)\n",
    "    y_pred = cross_val_predict(predicting_district, X, y, cv=3)\n",
    "\n",
    "    #Printing results\n",
    "    pprint.pprint(scores)\n",
    "    print()\n",
    "    print('\\n')\n",
    "    print(\"Accuracy (Training): %0.2f (+/- %0.2f)\" % (scores['train_score'].mean(), scores['train_score'].std() * 2))\n",
    "    print('\\n')\n",
    "    print(\"Accuracy (Testing):  %0.2f (+/- %0.2f)\" % (scores['test_score'].mean(), scores['test_score'].std() * 2))\n",
    "    print('\\n')\n",
    "    kung_fu_sion = confusion_matrix(y, y_pred)\n",
    "    print(kung_fu_sion)\n",
    "    report = classification_report(y, y_pred)\n",
    "    print('\\n')\n",
    "    print(report)\n",
    "    \n",
    "    "
   ]
  },
  {
   "cell_type": "code",
   "execution_count": 15,
   "metadata": {},
   "outputs": [
    {
     "name": "stdout",
     "output_type": "stream",
     "text": [
      "{'estimator': [KNeighborsClassifier(),\n",
      "               KNeighborsClassifier(),\n",
      "               KNeighborsClassifier(),\n",
      "               KNeighborsClassifier(),\n",
      "               KNeighborsClassifier(),\n",
      "               KNeighborsClassifier(),\n",
      "               KNeighborsClassifier(),\n",
      "               KNeighborsClassifier()],\n",
      " 'fit_time': array([0.93506908, 0.69387627, 1.80346608, 0.89725184, 0.92529893,\n",
      "       0.92114329, 0.74655318, 0.67215276]),\n",
      " 'score_time': array([10.49958825, 12.30703712, 21.81250763, 14.2313087 , 13.04472756,\n",
      "       13.85384321, 13.31379747, 13.78076673]),\n",
      " 'test_score': array([0.83237209, 0.83205316, 0.83099003, 0.83061344, 0.83146844,\n",
      "       0.82857143, 0.83465781, 0.82968318]),\n",
      " 'train_score': array([0.88772437, 0.88796357, 0.88777752, 0.8872381 , 0.88751174,\n",
      "       0.88832681, 0.8880876 , 0.8877608 ])}\n",
      "\n",
      "\n",
      "\n",
      "Accuracy (Training): 0.89 (+/- 0.00)\n",
      "\n",
      "\n",
      "Accuracy (Testing):  0.83 (+/- 0.00)\n",
      "\n",
      "\n",
      "[[10496     0  1275  1229    20   239    59    98   887     0]\n",
      " [    0 15960     0     0   942     0    25   717     0    22]\n",
      " [ 1684     0  8715    45     0    28     0     6  1116     0]\n",
      " [  849     0    51 17517    57   625    27   115   262     0]\n",
      " [   14  1238     0    93 15736   375   413  1646     0   585]\n",
      " [  313     1    63  1065   562  5097   274  1046   238    40]\n",
      " [   27   179     0    72   763   336  6142  1150    21   232]\n",
      " [  105   847    10   225  1348   737   982 23404     0   787]\n",
      " [ 1225     0  1427   681     2   174    25     0  7791     0]\n",
      " [    0    78     0     0   447    16    47   573     1  8780]]\n",
      "\n",
      "\n",
      "              precision    recall  f1-score   support\n",
      "\n",
      "           0       0.71      0.73      0.72     14303\n",
      "           1       0.87      0.90      0.89     17666\n",
      "           2       0.76      0.75      0.75     11594\n",
      "           3       0.84      0.90      0.87     19503\n",
      "           4       0.79      0.78      0.79     20100\n",
      "           5       0.67      0.59      0.62      8699\n",
      "           6       0.77      0.69      0.73      8922\n",
      "           7       0.81      0.82      0.82     28445\n",
      "           8       0.76      0.69      0.72     11325\n",
      "           9       0.84      0.88      0.86      9942\n",
      "\n",
      "    accuracy                           0.79    150499\n",
      "   macro avg       0.78      0.77      0.78    150499\n",
      "weighted avg       0.79      0.79      0.79    150499\n",
      "\n",
      "Wall time: 1min 2s\n"
     ]
    }
   ],
   "source": [
    "%%time\n",
    "#K-Nearest Neighbor Classifier scaled up\n",
    "#with repeated stratfied cross validation\n",
    "with joblib.parallel_backend('dask'):\n",
    "    predicting_district_cv = KNeighborsClassifier(n_neighbors=5)\n",
    "    predicting_district_cv.fit(X, y)\n",
    "    rkf = RepeatedStratifiedKFold(n_splits=4,  n_repeats=2)\n",
    "    scores = cross_validate(predicting_district_cv, X, y, cv=rkf, return_train_score=True, return_estimator=True)\n",
    "    y_pred = cross_val_predict(predicting_district_cv, X, y, cv=3)\n",
    "\n",
    "    #Printing results\n",
    "    pprint.pprint(scores)\n",
    "    print()\n",
    "    print('\\n')\n",
    "    print(\"Accuracy (Training): %0.2f (+/- %0.2f)\" % (scores['train_score'].mean(), scores['train_score'].std() * 2))\n",
    "    print('\\n')\n",
    "    print(\"Accuracy (Testing):  %0.2f (+/- %0.2f)\" % (scores['test_score'].mean(), scores['test_score'].std() * 2))\n",
    "    print('\\n')\n",
    "    kung_fu_sion = confusion_matrix(y, y_pred)\n",
    "    print(kung_fu_sion)\n",
    "    report = classification_report(y, y_pred)\n",
    "    print('\\n')\n",
    "    print(report)\n",
    "    \n",
    "    "
   ]
  },
  {
   "cell_type": "code",
   "execution_count": null,
   "metadata": {},
   "outputs": [],
   "source": [
    "%%time\n",
    "with joblib.parallel_backend('dask'):\n",
    "    fig, ax = plt.subplots(figsize=(10, 10))\n",
    "    plot_confusion_matrix(predicting_district, X, y, ax=ax)\n",
    "    plt.show()"
   ]
  },
  {
   "cell_type": "code",
   "execution_count": null,
   "metadata": {},
   "outputs": [],
   "source": [
    "%%time\n",
    "with joblib.parallel_backend('dask'):\n",
    "    dt_pred_distr = DecisionTreeClassifier()\n",
    "    dt_pred_distr.fit(X,y)\n",
    "    #rkf = RepeatedStratifiedKFold(n_splits=4,  n_repeats=2)\n",
    "    scores = cross_validate(dt_pred_distr, X, y, cv=4, return_train_score=True, return_estimator=True)\n",
    "    dt_y_pred = cross_val_predict(dt_pred_distr, X, y, cv=3)\n",
    "\n",
    "    pprint.pprint(scores)\n",
    "    print()\n",
    "    print('\\n')\n",
    "    print(\"Accuracy (Training): %0.2f (+/- %0.2f)\" % (scores['train_score'].mean(), scores['train_score'].std() * 2))\n",
    "    print('\\n')\n",
    "    print(\"Accuracy (Testing):  %0.2f (+/- %0.2f)\" % (scores['test_score'].mean(), scores['test_score'].std() * 2))\n",
    "    print('\\n')\n",
    "    print(confusion_matrix(y, dt_y_pred))\n",
    "    print('\\n')\n",
    "    report = classification_report(y, dt_y_pred)\n",
    "    print(report)"
   ]
  },
  {
   "cell_type": "code",
   "execution_count": null,
   "metadata": {},
   "outputs": [],
   "source": [
    "%%time\n",
    "from sklearn.ensemble import RandomForestClassifier\n",
    "with joblib.parallel_backend('dask'):\n",
    "    \n",
    "    rf_pred_distr = RandomForestClassifier(n_estimators=100, random_state=42)\n",
    "    rf_pred_distr.fit(X,y)\n",
    "    rkf = RepeatedStratifiedKFold(n_splits=4,  n_repeats=2)\n",
    "    scores = cross_validate(rf_pred_distr, X, y, cv=rkf, return_train_score=True, return_estimator=True)\n",
    "    rf_y_pred = cross_val_predict(rf_pred_distr, X, y, cv=3)\n",
    "\n",
    "    pprint.pprint(scores)\n",
    "    print()\n",
    "    print('\\n')\n",
    "    print(\"Accuracy (Training): %0.2f (+/- %0.2f)\" % (scores['train_score'].mean(), scores['train_score'].std() * 2))\n",
    "    print('\\n')\n",
    "    print(\"Accuracy (Testing):  %0.2f (+/- %0.2f)\" % (scores['test_score'].mean(), scores['test_score'].std() * 2))\n",
    "    print('\\n')\n",
    "    print(confusion_matrix(y, rf_y_pred))\n",
    "    print('\\n')\n",
    "    report = classification_report(y, rf_y_pred)\n",
    "    print(report)"
   ]
  },
  {
   "cell_type": "code",
   "execution_count": null,
   "metadata": {},
   "outputs": [],
   "source": []
  }
 ],
 "metadata": {
  "kernelspec": {
   "display_name": "Python 3",
   "language": "python",
   "name": "python3"
  },
  "language_info": {
   "codemirror_mode": {
    "name": "ipython",
    "version": 3
   },
   "file_extension": ".py",
   "mimetype": "text/x-python",
   "name": "python",
   "nbconvert_exporter": "python",
   "pygments_lexer": "ipython3",
   "version": "3.8.5"
  }
 },
 "nbformat": 4,
 "nbformat_minor": 4
}
