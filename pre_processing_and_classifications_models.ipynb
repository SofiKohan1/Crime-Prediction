{
 "cells": [
  {
   "cell_type": "code",
   "execution_count": 1,
   "metadata": {},
   "outputs": [
    {
     "data": {
      "text/plain": [
       "'\\nTasks: \\nHACER ALGUN CLASSIFICATION POR DAY OF WEEK \\nTIPO QUE CRIMENES PUEDEN PASAR TAL DIA ;) este es buenardo\\n\\n    preapre dataframes for classification based on the preprocessing and analysis ipynb\\n    preprocess data \\n    prepare training and testing sets\\n    train and test models\\n    Models:\\n        K-NN\\n        SVM \\n        K-Means \\n        Linear Regression\\n        Decision Tress and Random Forest\\n    performance metrics   \\n'"
      ]
     },
     "execution_count": 1,
     "metadata": {},
     "output_type": "execute_result"
    }
   ],
   "source": [
    "'''\n",
    "Tasks: \n",
    "HACER ALGUN CLASSIFICATION POR DAY OF WEEK \n",
    "TIPO QUE CRIMENES PUEDEN PASAR TAL DIA ;) este es buenardo\n",
    "\n",
    "    preapre dataframes for classification based on the preprocessing and analysis ipynb\n",
    "    preprocess data \n",
    "    prepare training and testing sets\n",
    "    train and test models\n",
    "    Models:\n",
    "        K-NN\n",
    "        SVM \n",
    "        K-Means \n",
    "        Linear Regression\n",
    "        Decision Tress and Random Forest\n",
    "    performance metrics   \n",
    "'''"
   ]
  },
  {
   "cell_type": "code",
   "execution_count": 2,
   "metadata": {},
   "outputs": [],
   "source": [
    "# Data, Datasets & Utils\n",
    "import pandas as pd\n",
    "from pandas.plotting import scatter_matrix\n",
    "import pprint\n",
    "import numpy as np\n",
    "from time import time\n",
    "from numpy import log2 as log\n",
    "\n",
    "# Validation methods\n",
    "from sklearn.model_selection import train_test_split\n",
    "from sklearn.model_selection import cross_val_score\n",
    "from sklearn.model_selection import cross_validate\n",
    "from sklearn.model_selection import StratifiedKFold\n",
    "from sklearn.model_selection import train_test_split\n",
    "\n",
    "# Metrics\n",
    "from sklearn import metrics\n",
    "from sklearn.metrics import make_scorer\n",
    "from sklearn.metrics import accuracy_score\n",
    "from sklearn.metrics import precision_score\n",
    "from sklearn.metrics import recall_score\n",
    "from sklearn.metrics import confusion_matrix\n",
    "\n",
    "# Classifiers\n",
    "from sklearn.neighbors import KNeighborsClassifier\n",
    "from sklearn import tree\n",
    "from sklearn.tree import DecisionTreeClassifier\n",
    "from sklearn.ensemble import RandomForestClassifier\n",
    "from sklearn.naive_bayes import GaussianNB\n",
    "from sklearn.naive_bayes import MultinomialNB\n",
    "from sklearn.naive_bayes import BernoulliNB\n",
    "\n",
    "\n",
    "# Hyper-parameter optimisation\n",
    "from sklearn.model_selection import GridSearchCV\n",
    "from sklearn.model_selection import RandomizedSearchCV\n",
    "\n",
    "# Feature selection & feature engineering\n",
    "from sklearn.feature_selection import RFE\n",
    "from sklearn.feature_selection import RFECV\n",
    "from sklearn.decomposition import PCA\n",
    "from sklearn import preprocessing\n",
    "from sklearn.preprocessing import MinMaxScaler\n",
    "\n",
    "# Stats\n",
    "from scipy.stats import randint as sp_randint\n",
    "from scipy.stats import pearsonr\n",
    "from scipy.stats import spearmanr\n",
    "from scipy.stats import shapiro     # Shapiro Wilk\n",
    "from scipy.stats import normaltest  # D’Agostino’s K^2\n",
    "from scipy.stats import anderson    # Anderson-Darling\n",
    "from scipy.stats import ttest_ind    # independent student t-test; assumes normality\n",
    "from scipy.stats import mannwhitneyu # non-parametric; doesn't assume normality\n",
    "\n",
    "# Visualisation\n",
    "import matplotlib.pyplot as plot \n",
    "import seaborn as sns\n",
    "from IPython.display import SVG\n",
    "from graphviz import Source\n",
    "from IPython.display import display\n",
    "from sklearn.tree import export_graphviz\n"
   ]
  },
  {
   "cell_type": "code",
   "execution_count": 3,
   "metadata": {},
   "outputs": [],
   "source": [
    "%matplotlib inline"
   ]
  },
  {
   "cell_type": "code",
   "execution_count": 4,
   "metadata": {},
   "outputs": [],
   "source": [
    "import matplotlib.pyplot as plt\n",
    "import numpy as np\n",
    "import pandas as pd\n",
    "import seaborn as sns\n",
    "from sklearn import preprocessing\n",
    "from sklearn.preprocessing import StandardScaler\n",
    "from sklearn.preprocessing import MinMaxScaler\n",
    "from sklearn.model_selection import train_test_split\n",
    "from sklearn.neighbors import KNeighborsClassifier\n",
    "from collections import defaultdict\n",
    "from sklearn.metrics import classification_report\n",
    "from sklearn.model_selection import RepeatedStratifiedKFold \n",
    "from sklearn.model_selection import cross_val_predict\n",
    "from collections import Counter"
   ]
  },
  {
   "cell_type": "code",
   "execution_count": 5,
   "metadata": {},
   "outputs": [],
   "source": [
    "#loading data file\n",
    "df_sf = pd.read_csv('Datasets\\Police_Department_Incidents.csv')"
   ]
  },
  {
   "cell_type": "code",
   "execution_count": 6,
   "metadata": {},
   "outputs": [
    {
     "data": {
      "text/plain": [
       "IncidntNum    0\n",
       "Category      0\n",
       "Descript      0\n",
       "DayOfWeek     0\n",
       "Date          0\n",
       "Time          0\n",
       "PdDistrict    0\n",
       "Resolution    0\n",
       "Address       0\n",
       "X             0\n",
       "Y             0\n",
       "Location      0\n",
       "PdId          0\n",
       "dtype: int64"
      ]
     },
     "execution_count": 6,
     "metadata": {},
     "output_type": "execute_result"
    }
   ],
   "source": [
    "#preprocessing\n",
    "#handling unique missing value by dropping it\n",
    "df_sf = df_sf.dropna()\n",
    "df_sf.isnull().sum() "
   ]
  },
  {
   "cell_type": "code",
   "execution_count": 7,
   "metadata": {},
   "outputs": [
    {
     "data": {
      "text/plain": [
       "Index(['IncidntNum', 'Category', 'Descript', 'DayOfWeek', 'Date', 'Time',\n",
       "       'PdDistrict', 'Resolution', 'Address', 'X', 'Y', 'Location', 'PdId'],\n",
       "      dtype='object')"
      ]
     },
     "execution_count": 7,
     "metadata": {},
     "output_type": "execute_result"
    }
   ],
   "source": [
    "df_sf.columns"
   ]
  },
  {
   "cell_type": "code",
   "execution_count": 8,
   "metadata": {},
   "outputs": [
    {
     "data": {
      "text/plain": [
       "'\\nCategory\\nClassese 1: 10000 onwards\\n\\nLARCENY/THEFT          40408 - 1\\nOTHER OFFENSES         19599 - 2\\nNON-CRIMINAL           17866 - 3 \\nASSAULT                13577 - 4 \\n\\nDistrict\\nClasses 1: \\nSOUTHERN      28445  - 0 \\nNORTHERN      20100  - 1 \\n\\n'"
      ]
     },
     "execution_count": 8,
     "metadata": {},
     "output_type": "execute_result"
    }
   ],
   "source": [
    "'''\n",
    "Category\n",
    "Classese 1: 10000 onwards\n",
    "\n",
    "LARCENY/THEFT          40408 - 1\n",
    "OTHER OFFENSES         19599 - 2\n",
    "NON-CRIMINAL           17866 - 3 \n",
    "ASSAULT                13577 - 4 \n",
    "\n",
    "District\n",
    "Classes 1: \n",
    "SOUTHERN      28445  - 0 \n",
    "NORTHERN      20100  - 1 \n",
    "\n",
    "'''"
   ]
  },
  {
   "cell_type": "code",
   "execution_count": 9,
   "metadata": {},
   "outputs": [
    {
     "name": "stdout",
     "output_type": "stream",
     "text": [
      "<class 'pandas.core.frame.DataFrame'>\n",
      "Int64Index: 150499 entries, 0 to 150499\n",
      "Data columns (total 12 columns):\n",
      " #   Column      Non-Null Count   Dtype  \n",
      "---  ------      --------------   -----  \n",
      " 0   Category    150499 non-null  object \n",
      " 1   Descript    150499 non-null  object \n",
      " 2   DayOfWeek   150499 non-null  object \n",
      " 3   Date        150499 non-null  object \n",
      " 4   Time        150499 non-null  object \n",
      " 5   PdDistrict  150499 non-null  object \n",
      " 6   Resolution  150499 non-null  object \n",
      " 7   Address     150499 non-null  object \n",
      " 8   X           150499 non-null  float64\n",
      " 9   Y           150499 non-null  float64\n",
      " 10  Location    150499 non-null  object \n",
      " 11  PdId        150499 non-null  float64\n",
      "dtypes: float64(3), object(9)\n",
      "memory usage: 14.9+ MB\n"
     ]
    }
   ],
   "source": [
    "#getting the cooridantes features ready for train test/split \n",
    "#df_corr set will contain the feature X,Y and District\n",
    "df_coor = df_sf.drop(columns=['IncidntNum'])\n",
    "df_coor.info()"
   ]
  },
  {
   "cell_type": "code",
   "execution_count": 10,
   "metadata": {},
   "outputs": [
    {
     "data": {
      "text/plain": [
       "Index(['Category', 'Descript', 'DayOfWeek', 'Date', 'Time', 'PdDistrict',\n",
       "       'Resolution', 'Address', 'Location'],\n",
       "      dtype='object')"
      ]
     },
     "execution_count": 10,
     "metadata": {},
     "output_type": "execute_result"
    }
   ],
   "source": [
    "#selecting object values to tranform into int \n",
    "sel = df_coor.select_dtypes(exclude=['float64']).columns \n",
    "sel "
   ]
  },
  {
   "cell_type": "code",
   "execution_count": 11,
   "metadata": {},
   "outputs": [],
   "source": [
    "#encoding objects\n",
    "encode = defaultdict(preprocessing.LabelEncoder)\n",
    "df_coor[sel] = df_coor[sel].apply(lambda x: encode[x.name].fit_transform(x.astype(str)))"
   ]
  },
  {
   "cell_type": "code",
   "execution_count": 12,
   "metadata": {},
   "outputs": [
    {
     "data": {
      "text/html": [
       "<div>\n",
       "<style scoped>\n",
       "    .dataframe tbody tr th:only-of-type {\n",
       "        vertical-align: middle;\n",
       "    }\n",
       "\n",
       "    .dataframe tbody tr th {\n",
       "        vertical-align: top;\n",
       "    }\n",
       "\n",
       "    .dataframe thead th {\n",
       "        text-align: right;\n",
       "    }\n",
       "</style>\n",
       "<table border=\"1\" class=\"dataframe\">\n",
       "  <thead>\n",
       "    <tr style=\"text-align: right;\">\n",
       "      <th></th>\n",
       "      <th>Category</th>\n",
       "      <th>Descript</th>\n",
       "      <th>DayOfWeek</th>\n",
       "      <th>Date</th>\n",
       "      <th>Time</th>\n",
       "      <th>PdDistrict</th>\n",
       "      <th>Resolution</th>\n",
       "      <th>Address</th>\n",
       "      <th>X</th>\n",
       "      <th>Y</th>\n",
       "      <th>Location</th>\n",
       "      <th>PdId</th>\n",
       "    </tr>\n",
       "  </thead>\n",
       "  <tbody>\n",
       "    <tr>\n",
       "      <th>0</th>\n",
       "      <td>38</td>\n",
       "      <td>468</td>\n",
       "      <td>0</td>\n",
       "      <td>21</td>\n",
       "      <td>119</td>\n",
       "      <td>7</td>\n",
       "      <td>0</td>\n",
       "      <td>9418</td>\n",
       "      <td>-122.403405</td>\n",
       "      <td>37.775421</td>\n",
       "      <td>12617</td>\n",
       "      <td>1.200580e+13</td>\n",
       "    </tr>\n",
       "    <tr>\n",
       "      <th>1</th>\n",
       "      <td>38</td>\n",
       "      <td>298</td>\n",
       "      <td>0</td>\n",
       "      <td>21</td>\n",
       "      <td>119</td>\n",
       "      <td>7</td>\n",
       "      <td>0</td>\n",
       "      <td>9418</td>\n",
       "      <td>-122.403405</td>\n",
       "      <td>37.775421</td>\n",
       "      <td>12617</td>\n",
       "      <td>1.200580e+13</td>\n",
       "    </tr>\n",
       "    <tr>\n",
       "      <th>2</th>\n",
       "      <td>37</td>\n",
       "      <td>715</td>\n",
       "      <td>1</td>\n",
       "      <td>200</td>\n",
       "      <td>358</td>\n",
       "      <td>0</td>\n",
       "      <td>0</td>\n",
       "      <td>12994</td>\n",
       "      <td>-122.388856</td>\n",
       "      <td>37.729981</td>\n",
       "      <td>3254</td>\n",
       "      <td>1.410590e+13</td>\n",
       "    </tr>\n",
       "    <tr>\n",
       "      <th>3</th>\n",
       "      <td>20</td>\n",
       "      <td>387</td>\n",
       "      <td>5</td>\n",
       "      <td>26</td>\n",
       "      <td>949</td>\n",
       "      <td>9</td>\n",
       "      <td>9</td>\n",
       "      <td>12883</td>\n",
       "      <td>-122.412971</td>\n",
       "      <td>37.785788</td>\n",
       "      <td>15446</td>\n",
       "      <td>1.600140e+13</td>\n",
       "    </tr>\n",
       "    <tr>\n",
       "      <th>4</th>\n",
       "      <td>20</td>\n",
       "      <td>387</td>\n",
       "      <td>0</td>\n",
       "      <td>0</td>\n",
       "      <td>29</td>\n",
       "      <td>3</td>\n",
       "      <td>9</td>\n",
       "      <td>3560</td>\n",
       "      <td>-122.419672</td>\n",
       "      <td>37.765050</td>\n",
       "      <td>10437</td>\n",
       "      <td>1.600030e+13</td>\n",
       "    </tr>\n",
       "    <tr>\n",
       "      <th>...</th>\n",
       "      <td>...</td>\n",
       "      <td>...</td>\n",
       "      <td>...</td>\n",
       "      <td>...</td>\n",
       "      <td>...</td>\n",
       "      <td>...</td>\n",
       "      <td>...</td>\n",
       "      <td>...</td>\n",
       "      <td>...</td>\n",
       "      <td>...</td>\n",
       "      <td>...</td>\n",
       "      <td>...</td>\n",
       "    </tr>\n",
       "    <tr>\n",
       "      <th>150495</th>\n",
       "      <td>1</td>\n",
       "      <td>102</td>\n",
       "      <td>0</td>\n",
       "      <td>115</td>\n",
       "      <td>780</td>\n",
       "      <td>5</td>\n",
       "      <td>9</td>\n",
       "      <td>14126</td>\n",
       "      <td>-122.453982</td>\n",
       "      <td>37.771428</td>\n",
       "      <td>11568</td>\n",
       "      <td>1.610610e+13</td>\n",
       "    </tr>\n",
       "    <tr>\n",
       "      <th>150496</th>\n",
       "      <td>20</td>\n",
       "      <td>387</td>\n",
       "      <td>0</td>\n",
       "      <td>115</td>\n",
       "      <td>1319</td>\n",
       "      <td>1</td>\n",
       "      <td>9</td>\n",
       "      <td>12760</td>\n",
       "      <td>-122.401857</td>\n",
       "      <td>37.796626</td>\n",
       "      <td>17770</td>\n",
       "      <td>1.760010e+13</td>\n",
       "    </tr>\n",
       "    <tr>\n",
       "      <th>150497</th>\n",
       "      <td>16</td>\n",
       "      <td>454</td>\n",
       "      <td>4</td>\n",
       "      <td>113</td>\n",
       "      <td>719</td>\n",
       "      <td>1</td>\n",
       "      <td>9</td>\n",
       "      <td>14502</td>\n",
       "      <td>-122.412269</td>\n",
       "      <td>37.790673</td>\n",
       "      <td>16685</td>\n",
       "      <td>1.760010e+13</td>\n",
       "    </tr>\n",
       "    <tr>\n",
       "      <th>150498</th>\n",
       "      <td>16</td>\n",
       "      <td>336</td>\n",
       "      <td>0</td>\n",
       "      <td>115</td>\n",
       "      <td>59</td>\n",
       "      <td>1</td>\n",
       "      <td>9</td>\n",
       "      <td>4752</td>\n",
       "      <td>-122.406659</td>\n",
       "      <td>37.788275</td>\n",
       "      <td>16151</td>\n",
       "      <td>1.760010e+13</td>\n",
       "    </tr>\n",
       "    <tr>\n",
       "      <th>150499</th>\n",
       "      <td>21</td>\n",
       "      <td>321</td>\n",
       "      <td>0</td>\n",
       "      <td>103</td>\n",
       "      <td>299</td>\n",
       "      <td>7</td>\n",
       "      <td>9</td>\n",
       "      <td>9418</td>\n",
       "      <td>-122.403405</td>\n",
       "      <td>37.775421</td>\n",
       "      <td>12617</td>\n",
       "      <td>1.790030e+13</td>\n",
       "    </tr>\n",
       "  </tbody>\n",
       "</table>\n",
       "<p>150499 rows × 12 columns</p>\n",
       "</div>"
      ],
      "text/plain": [
       "        Category  Descript  DayOfWeek  Date  Time  PdDistrict  Resolution  \\\n",
       "0             38       468          0    21   119           7           0   \n",
       "1             38       298          0    21   119           7           0   \n",
       "2             37       715          1   200   358           0           0   \n",
       "3             20       387          5    26   949           9           9   \n",
       "4             20       387          0     0    29           3           9   \n",
       "...          ...       ...        ...   ...   ...         ...         ...   \n",
       "150495         1       102          0   115   780           5           9   \n",
       "150496        20       387          0   115  1319           1           9   \n",
       "150497        16       454          4   113   719           1           9   \n",
       "150498        16       336          0   115    59           1           9   \n",
       "150499        21       321          0   103   299           7           9   \n",
       "\n",
       "        Address           X          Y  Location          PdId  \n",
       "0          9418 -122.403405  37.775421     12617  1.200580e+13  \n",
       "1          9418 -122.403405  37.775421     12617  1.200580e+13  \n",
       "2         12994 -122.388856  37.729981      3254  1.410590e+13  \n",
       "3         12883 -122.412971  37.785788     15446  1.600140e+13  \n",
       "4          3560 -122.419672  37.765050     10437  1.600030e+13  \n",
       "...         ...         ...        ...       ...           ...  \n",
       "150495    14126 -122.453982  37.771428     11568  1.610610e+13  \n",
       "150496    12760 -122.401857  37.796626     17770  1.760010e+13  \n",
       "150497    14502 -122.412269  37.790673     16685  1.760010e+13  \n",
       "150498     4752 -122.406659  37.788275     16151  1.760010e+13  \n",
       "150499     9418 -122.403405  37.775421     12617  1.790030e+13  \n",
       "\n",
       "[150499 rows x 12 columns]"
      ]
     },
     "execution_count": 12,
     "metadata": {},
     "output_type": "execute_result"
    }
   ],
   "source": [
    "df_coor"
   ]
  },
  {
   "cell_type": "code",
   "execution_count": 13,
   "metadata": {},
   "outputs": [
    {
     "data": {
      "text/plain": [
       "Index(['Category', 'Descript', 'DayOfWeek', 'Date', 'Time', 'PdDistrict',\n",
       "       'Resolution', 'Address', 'X', 'Y', 'Location', 'PdId'],\n",
       "      dtype='object')"
      ]
     },
     "execution_count": 13,
     "metadata": {},
     "output_type": "execute_result"
    }
   ],
   "source": [
    "df_coor.columns"
   ]
  },
  {
   "cell_type": "code",
   "execution_count": 14,
   "metadata": {},
   "outputs": [
    {
     "name": "stdout",
     "output_type": "stream",
     "text": [
      "<class 'pandas.core.frame.DataFrame'>\n",
      "Int64Index: 150499 entries, 0 to 150499\n",
      "Data columns (total 12 columns):\n",
      " #   Column      Non-Null Count   Dtype  \n",
      "---  ------      --------------   -----  \n",
      " 0   Category    150499 non-null  int32  \n",
      " 1   Descript    150499 non-null  int32  \n",
      " 2   DayOfWeek   150499 non-null  int32  \n",
      " 3   Date        150499 non-null  int32  \n",
      " 4   Time        150499 non-null  int32  \n",
      " 5   PdDistrict  150499 non-null  int32  \n",
      " 6   Resolution  150499 non-null  int32  \n",
      " 7   Address     150499 non-null  int32  \n",
      " 8   X           150499 non-null  float64\n",
      " 9   Y           150499 non-null  float64\n",
      " 10  Location    150499 non-null  int32  \n",
      " 11  PdId        150499 non-null  float64\n",
      "dtypes: float64(3), int32(9)\n",
      "memory usage: 9.8 MB\n"
     ]
    }
   ],
   "source": [
    "df_coor.info()"
   ]
  },
  {
   "cell_type": "code",
   "execution_count": 15,
   "metadata": {},
   "outputs": [],
   "source": [
    "# outliers dropped\n",
    "df_coor.drop(df_sf[df_sf['Y'] == df_sf['Y'].max()].index, inplace=True)\n",
    "df_coor.drop(df_sf[df_sf['X'] == df_sf['X'].max()].index, inplace=True)"
   ]
  },
  {
   "cell_type": "code",
   "execution_count": 16,
   "metadata": {},
   "outputs": [
    {
     "data": {
      "text/plain": [
       "7    28201\n",
       "4    20100\n",
       "3    19503\n",
       "1    17666\n",
       "0    14303\n",
       "2    11594\n",
       "8    11325\n",
       "9     9942\n",
       "6     8918\n",
       "5     8699\n",
       "Name: PdDistrict, dtype: int64"
      ]
     },
     "execution_count": 16,
     "metadata": {},
     "output_type": "execute_result"
    }
   ],
   "source": [
    "df_coor['PdDistrict'].value_counts()"
   ]
  },
  {
   "cell_type": "code",
   "execution_count": 17,
   "metadata": {},
   "outputs": [],
   "source": [
    "#separating the class from the \n",
    "X = df_coor[['Category', 'Descript', 'DayOfWeek', 'Date', 'Time',\n",
    "             'Resolution', 'Address', 'X', 'Y', 'Location', 'PdId']]\n",
    "y = df_coor['PdDistrict']"
   ]
  },
  {
   "cell_type": "code",
   "execution_count": 18,
   "metadata": {},
   "outputs": [
    {
     "data": {
      "text/plain": [
       "' it is now determined the number of classes in the pdDistricts are\\n\\n    class : number of class\\n    n : how many more exmaples\\n    and the percetange in the dataset as a whole\\n    \\n    \\n    class 1: could work with 3,4\\n    class 2: could work with 8, 9\\n    class 3: could work with 4,1\\n    class 4: could work with 3,1 \\n    class 5: could work with 6, 9\\n    class 6: could work with 5, 9\\n    class 7: massive unbalance - not working mate\\n    class 8: could work with 2, 9\\n'"
      ]
     },
     "execution_count": 18,
     "metadata": {},
     "output_type": "execute_result"
    }
   ],
   "source": [
    "''' it is now determined the number of classes in the pdDistricts are\n",
    "\n",
    "    class : number of class\n",
    "    n : how many more exmaples\n",
    "    and the percetange in the dataset as a whole\n",
    "    \n",
    "    \n",
    "    class 1: could work with 3,4\n",
    "    class 2: could work with 8, 9\n",
    "    class 3: could work with 4,1\n",
    "    class 4: could work with 3,1 \n",
    "    class 5: could work with 6, 9\n",
    "    class 6: could work with 5, 9\n",
    "    class 7: massive unbalance - not working mate\n",
    "    class 8: could work with 2, 9\n",
    "'''"
   ]
  },
  {
   "cell_type": "code",
   "execution_count": 22,
   "metadata": {},
   "outputs": [
    {
     "name": "stdout",
     "output_type": "stream",
     "text": [
      "Class=7, n=28201 (18.769%)\n",
      "Class=0, n=14303 (9.519%)\n",
      "Class=9, n=9942 (6.617%)\n",
      "Class=3, n=19503 (12.980%)\n",
      "Class=4, n=20100 (13.378%)\n",
      "Class=8, n=11325 (7.537%)\n",
      "Class=2, n=11594 (7.716%)\n",
      "Class=1, n=17666 (11.758%)\n",
      "Class=6, n=8918 (5.935%)\n",
      "Class=5, n=8699 (5.790%)\n"
     ]
    },
    {
     "data": {
      "image/png": "[encoded data removed]",
      "text/plain": [
       "<Figure size 432x288 with 1 Axes>"
      ]
     },
     "metadata": {
      "needs_background": "light"
     },
     "output_type": "display_data"
    }
   ],
   "source": [
    "counter = Counter(y)\n",
    "for k,v in counter.items():\n",
    "    per = v / len(y) * 100\n",
    "    print('Class=%d, n=%d (%.3f%%)' % (k, v, per))\n",
    "# plot the distribution\n",
    "plt.title(\"\\n Multi-Class Distribution\\n\")\n",
    "plt.xlabel(\"\\n Class\")\n",
    "plt.ylabel(\"Count\") \n",
    "plt.bar(counter.keys(), counter.values())\n",
    "plt.show()"
   ]
  },
  {
   "cell_type": "code",
   "execution_count": 23,
   "metadata": {},
   "outputs": [
    {
     "name": "stdout",
     "output_type": "stream",
     "text": [
      "{'estimator': [KNeighborsClassifier(n_neighbors=10),\n",
      "               KNeighborsClassifier(n_neighbors=10),\n",
      "               KNeighborsClassifier(n_neighbors=10),\n",
      "               KNeighborsClassifier(n_neighbors=10),\n",
      "               KNeighborsClassifier(n_neighbors=10),\n",
      "               KNeighborsClassifier(n_neighbors=10)],\n",
      " 'fit_time': array([0.5840857 , 0.60989761, 0.5933845 , 0.59735036, 0.71391916,\n",
      "       1.0163331 ]),\n",
      " 'score_time': array([0.78051901, 0.79538536, 0.78598189, 0.84430099, 0.83324194,\n",
      "       1.54529715]),\n",
      " 'test_score': array([0.3579187 , 0.31846498, 0.13537257, 0.08437824, 0.12862391,\n",
      "       0.29435725]),\n",
      " 'train_score': array([0.5947975 , 0.59687403, 0.6055635 , 0.60972454, 0.60016452,\n",
      "       0.59531188])}\n",
      "\n",
      "\n",
      "\n",
      "Accuracy (Training): 0.60 (+/- 0.01)\n",
      "\n",
      "\n",
      "Accuracy (Testing):  0.22 (+/- 0.21)\n",
      "\n",
      "\n",
      "[[2650  658 1649 3235 1312  348  313 2340 1259  539]\n",
      " [ 381 4049  226 1563 2998  444  609 4463  197 2736]\n",
      " [2397  438 1718 2218 1023  219  228 1735 1319  299]\n",
      " [1830  834  703 6757 2087  960  565 3935  971  861]\n",
      " [ 439 3410  214 2600 3197  702  822 5830  181 2705]\n",
      " [ 428  682  224 2121 1249  453  369 2416  160  597]\n",
      " [ 232 1152   94 1453 1426  325  460 2669   82 1025]\n",
      " [ 815 3035  383 4838 4390 1176 1073 9016  330 3145]\n",
      " [1931  558 1312 2847 1050  274  280 1999  734  340]\n",
      " [ 229 1445  169  826 2327  258  478 3116  107  987]]\n",
      "\n",
      "\n",
      "              precision    recall  f1-score   support\n",
      "\n",
      "           0       0.23      0.19      0.21     14303\n",
      "           1       0.25      0.23      0.24     17666\n",
      "           2       0.26      0.15      0.19     11594\n",
      "           3       0.24      0.35      0.28     19503\n",
      "           4       0.15      0.16      0.16     20100\n",
      "           5       0.09      0.05      0.07      8699\n",
      "           6       0.09      0.05      0.07      8918\n",
      "           7       0.24      0.32      0.27     28201\n",
      "           8       0.14      0.06      0.09     11325\n",
      "           9       0.07      0.10      0.09      9942\n",
      "\n",
      "    accuracy                           0.20    150251\n",
      "   macro avg       0.18      0.17      0.16    150251\n",
      "weighted avg       0.19      0.20      0.19    150251\n",
      "\n",
      "Wall time: 59.7 s\n"
     ]
    }
   ],
   "source": [
    "%%time\n",
    "#por ahi hcer un k-means de esto en vez de knn (:\n",
    "#K-Nearest Neighbor attempt 1 to predict classify district by coordenates and category\n",
    "predicting_district = KNeighborsClassifier(n_neighbors=8)\n",
    "predicting_district.fit(X, y)\n",
    "\n",
    "#rkf = RepeatedStratifiedKFold(n_splits=4, random_state=42)\n",
    "scores = cross_validate(predicting_district, X, y, cv=6, return_train_score=True, return_estimator=True)\n",
    "y_pred = cross_val_predict(predicting_district, X, y, cv=3)\n",
    "\n",
    "# Printing results\n",
    "pprint.pprint(scores)\n",
    "print()\n",
    "print('\\n')\n",
    "print(\"Accuracy (Training): %0.2f (+/- %0.2f)\" % (scores['train_score'].mean(), scores['train_score'].std() * 2))\n",
    "print('\\n')\n",
    "print(\"Accuracy (Testing):  %0.2f (+/- %0.2f)\" % (scores['test_score'].mean(), scores['test_score'].std() * 2))\n",
    "print('\\n')\n",
    "kung_fu_sion = confusion_matrix(y, y_pred)\n",
    "print(kung_fu_sion)\n",
    "report = classification_report(y, y_pred)\n",
    "print('\\n')\n",
    "print(report)"
   ]
  },
  {
   "cell_type": "code",
   "execution_count": 21,
   "metadata": {},
   "outputs": [
    {
     "data": {
      "image/png": "[encoded data removed]",
      "text/plain": [
       "<Figure size 720x720 with 2 Axes>"
      ]
     },
     "metadata": {
      "needs_background": "light"
     },
     "output_type": "display_data"
    }
   ],
   "source": [
    "from sklearn.metrics import plot_confusion_matrix\n",
    "fig, ax = plt.subplots(figsize=(10, 10))\n",
    "plot_confusion_matrix(predicting_district, X, y, ax=ax)\n",
    "plt.show()"
   ]
  },
  {
   "cell_type": "code",
   "execution_count": 22,
   "metadata": {},
   "outputs": [],
   "source": [
    "#all this is now to compare performance btw... "
   ]
  },
  {
   "cell_type": "code",
   "execution_count": 23,
   "metadata": {},
   "outputs": [],
   "source": [
    "#decision tree "
   ]
  },
  {
   "cell_type": "code",
   "execution_count": 24,
   "metadata": {},
   "outputs": [
    {
     "name": "stdout",
     "output_type": "stream",
     "text": [
      "{'estimator': [DecisionTreeClassifier(),\n",
      "               DecisionTreeClassifier(),\n",
      "               DecisionTreeClassifier(),\n",
      "               DecisionTreeClassifier()],\n",
      " 'fit_time': array([0.68417048, 0.64829683, 0.67822623, 0.66219091]),\n",
      " 'score_time': array([0.01097083, 0.01296473, 0.01093197, 0.0119679 ]),\n",
      " 'test_score': array([0.98437292, 0.98589037, 0.98517158, 0.98482509]),\n",
      " 'train_score': array([0.99999113, 0.99999113, 0.99999113, 1.        ])}\n",
      "\n",
      "\n",
      "\n",
      "Accuracy (Training): 1.00 (+/- 0.00)\n",
      "\n",
      "\n",
      "Accuracy (Testing):  0.99 (+/- 0.00)\n",
      "\n",
      "\n",
      "[[14182     0    71     2     0     1     5    39     2     1]\n",
      " [    0 17281     0     0   157     0     0   133     0    95]\n",
      " [   73     0 11432    29     0    11     0     0    49     0]\n",
      " [   13     0    28 19168    17   144     0   132     1     0]\n",
      " [    0    98     0    22 19734     3    11    54     0   178]\n",
      " [    1     0     9    79     6  8540    54     2     8     0]\n",
      " [   16     0     0     0    10    32  8832     0    28     0]\n",
      " [   41    85     0    88    63     1     0 27854     0    69]\n",
      " [    3     0    39     4     0    22    33     0 11224     0]\n",
      " [    1    54     0     0   240     0     0    68     0  9579]]\n",
      "\n",
      "\n",
      "              precision    recall  f1-score   support\n",
      "\n",
      "           0       0.99      0.99      0.99     14303\n",
      "           1       0.99      0.98      0.98     17666\n",
      "           2       0.99      0.99      0.99     11594\n",
      "           3       0.99      0.98      0.99     19503\n",
      "           4       0.98      0.98      0.98     20100\n",
      "           5       0.98      0.98      0.98      8699\n",
      "           6       0.99      0.99      0.99      8918\n",
      "           7       0.98      0.99      0.99     28201\n",
      "           8       0.99      0.99      0.99     11325\n",
      "           9       0.97      0.96      0.96      9942\n",
      "\n",
      "    accuracy                           0.98    150251\n",
      "   macro avg       0.98      0.98      0.98    150251\n",
      "weighted avg       0.98      0.98      0.98    150251\n",
      "\n",
      "Wall time: 6.02 s\n"
     ]
    }
   ],
   "source": [
    "%%time\n",
    "dt_pred_distr = DecisionTreeClassifier()\n",
    "dt_pred_distr.fit(X,y)\n",
    "#rkf = RepeatedStratifiedKFold(n_splits=4,  n_repeats=2)\n",
    "scores = cross_validate(dt_pred_distr, X, y, cv=4, return_train_score=True, return_estimator=True)\n",
    "dt_y_pred = cross_val_predict(dt_pred_distr, X, y, cv=3)\n",
    "\n",
    "pprint.pprint(scores)\n",
    "print()\n",
    "print('\\n')\n",
    "print(\"Accuracy (Training): %0.2f (+/- %0.2f)\" % (scores['train_score'].mean(), scores['train_score'].std() * 2))\n",
    "print('\\n')\n",
    "print(\"Accuracy (Testing):  %0.2f (+/- %0.2f)\" % (scores['test_score'].mean(), scores['test_score'].std() * 2))\n",
    "print('\\n')\n",
    "print(confusion_matrix(y, dt_y_pred))\n",
    "print('\\n')\n",
    "report = classification_report(y, dt_y_pred)\n",
    "print(report)"
   ]
  },
  {
   "cell_type": "code",
   "execution_count": 50,
   "metadata": {},
   "outputs": [],
   "source": [
    "#random forest"
   ]
  },
  {
   "cell_type": "code",
   "execution_count": 25,
   "metadata": {},
   "outputs": [
    {
     "name": "stdout",
     "output_type": "stream",
     "text": [
      "{'estimator': [RandomForestClassifier(random_state=42),\n",
      "               RandomForestClassifier(random_state=42),\n",
      "               RandomForestClassifier(random_state=42),\n",
      "               RandomForestClassifier(random_state=42),\n",
      "               RandomForestClassifier(random_state=42),\n",
      "               RandomForestClassifier(random_state=42),\n",
      "               RandomForestClassifier(random_state=42),\n",
      "               RandomForestClassifier(random_state=42)],\n",
      " 'fit_time': array([17.74950576, 17.09434175, 17.08134174, 17.12920761, 17.00553584,\n",
      "       17.10327482, 16.96764827, 17.02548432]),\n",
      " 'score_time': array([0.80786657, 0.78186512, 0.78486037, 0.79782677, 0.78486419,\n",
      "       0.78191018, 0.81281376, 0.78789043]),\n",
      " 'test_score': array([0.99105503, 0.99094854, 0.99153422, 0.99006975, 0.99092192,\n",
      "       0.99097516, 0.99046934, 0.99156062]),\n",
      " 'train_score': array([1.        , 1.        , 0.99999113, 0.99999113, 1.        ,\n",
      "       1.        , 0.99999113, 0.99999113])}\n",
      "\n",
      "\n",
      "\n",
      "Accuracy (Training): 1.00 (+/- 0.00)\n",
      "\n",
      "\n",
      "Accuracy (Testing):  0.99 (+/- 0.00)\n",
      "\n",
      "\n",
      "[[14139     0   101     4     0     1    10    46     2     0]\n",
      " [    0 17407     0     0   144     0     0    90     0    25]\n",
      " [   78     0 11382    24     0     6     0     0   104     0]\n",
      " [    1     0    21 19236    19   113     0   112     1     0]\n",
      " [    0    54     0    34 19833     7     3    54     0   115]\n",
      " [    0     0    16   104    27  8488    46     5    13     0]\n",
      " [    0     1     0     0    10    37  8830     0    40     0]\n",
      " [   28   118    10    88    67     0     0 27859     0    31]\n",
      " [    0     0    46     0     0    14    30     0 11235     0]\n",
      " [    1    77     0     0   276     0     0   419     0  9169]]\n",
      "\n",
      "\n",
      "              precision    recall  f1-score   support\n",
      "\n",
      "           0       0.99      0.99      0.99     14303\n",
      "           1       0.99      0.99      0.99     17666\n",
      "           2       0.98      0.98      0.98     11594\n",
      "           3       0.99      0.99      0.99     19503\n",
      "           4       0.97      0.99      0.98     20100\n",
      "           5       0.98      0.98      0.98      8699\n",
      "           6       0.99      0.99      0.99      8918\n",
      "           7       0.97      0.99      0.98     28201\n",
      "           8       0.99      0.99      0.99     11325\n",
      "           9       0.98      0.92      0.95      9942\n",
      "\n",
      "    accuracy                           0.98    150251\n",
      "   macro avg       0.98      0.98      0.98    150251\n",
      "weighted avg       0.98      0.98      0.98    150251\n",
      "\n",
      "Wall time: 3min 53s\n"
     ]
    }
   ],
   "source": [
    "%%time\n",
    "from sklearn.ensemble import RandomForestClassifier\n",
    "rf_pred_distr = RandomForestClassifier(n_estimators=100, random_state=42)\n",
    "rf_pred_distr.fit(X,y)\n",
    "rkf = RepeatedStratifiedKFold(n_splits=4,  n_repeats=2)\n",
    "scores = cross_validate(rf_pred_distr, X, y, cv=rkf, return_train_score=True, return_estimator=True)\n",
    "rf_y_pred = cross_val_predict(rf_pred_distr, X, y, cv=3)\n",
    "\n",
    "pprint.pprint(scores)\n",
    "print()\n",
    "print('\\n')\n",
    "print(\"Accuracy (Training): %0.2f (+/- %0.2f)\" % (scores['train_score'].mean(), scores['train_score'].std() * 2))\n",
    "print('\\n')\n",
    "print(\"Accuracy (Testing):  %0.2f (+/- %0.2f)\" % (scores['test_score'].mean(), scores['test_score'].std() * 2))\n",
    "print('\\n')\n",
    "print(confusion_matrix(y, rf_y_pred))\n",
    "print('\\n')\n",
    "report = classification_report(y, rf_y_pred)\n",
    "print(report)"
   ]
  },
  {
   "cell_type": "code",
   "execution_count": null,
   "metadata": {},
   "outputs": [],
   "source": []
  },
  {
   "cell_type": "code",
   "execution_count": null,
   "metadata": {},
   "outputs": [],
   "source": []
  }
 ],
 "metadata": {
  "kernelspec": {
   "display_name": "Python 3 (ipykernel)",
   "language": "python",
   "name": "python3"
  },
  "language_info": {
   "codemirror_mode": {
    "name": "ipython",
    "version": 3
   },
   "file_extension": ".py",
   "mimetype": "text/x-python",
   "name": "python",
   "nbconvert_exporter": "python",
   "pygments_lexer": "ipython3",
   "version": "3.9.7"
  }
 },
 "nbformat": 4,
 "nbformat_minor": 4
}
