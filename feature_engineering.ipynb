{
 "cells": [
  {
   "cell_type": "code",
   "execution_count": 34,
   "metadata": {},
   "outputs": [],
   "source": [
    "# Data, Datasets & Utils\n",
    "import pandas as pd\n",
    "from pandas.plotting import scatter_matrix\n",
    "import pprint\n",
    "import numpy as np\n",
    "from time import time\n",
    "from numpy import log2 as log\n",
    "\n",
    "# Validation methods\n",
    "from sklearn.model_selection import train_test_split\n",
    "from sklearn.model_selection import cross_val_score\n",
    "from sklearn.model_selection import cross_validate\n",
    "from sklearn.model_selection import StratifiedKFold\n",
    "from sklearn.model_selection import train_test_split\n",
    "\n",
    "# Metrics\n",
    "from sklearn import metrics\n",
    "from sklearn.metrics import make_scorer\n",
    "from sklearn.metrics import accuracy_score\n",
    "from sklearn.metrics import precision_score\n",
    "from sklearn.metrics import recall_score\n",
    "\n",
    "# Classifiers\n",
    "from sklearn.neighbors import KNeighborsClassifier\n",
    "from sklearn import tree\n",
    "from sklearn.tree import DecisionTreeClassifier\n",
    "from sklearn.ensemble import RandomForestClassifier\n",
    "from sklearn.naive_bayes import GaussianNB\n",
    "from sklearn.naive_bayes import MultinomialNB\n",
    "from sklearn.naive_bayes import BernoulliNB\n",
    "\n",
    "\n",
    "# Hyper-parameter optimisation\n",
    "from sklearn.model_selection import GridSearchCV\n",
    "from sklearn.model_selection import RandomizedSearchCV\n",
    "\n",
    "# Feature selection & feature engineering\n",
    "from sklearn.feature_selection import RFE\n",
    "from sklearn.feature_selection import RFECV\n",
    "from sklearn.decomposition import PCA\n",
    "from sklearn import preprocessing\n",
    "from sklearn.preprocessing import MinMaxScaler\n",
    "\n",
    "# Stats\n",
    "from scipy.stats import randint as sp_randint\n",
    "from scipy.stats import pearsonr\n",
    "from scipy.stats import spearmanr\n",
    "from scipy.stats import shapiro     # Shapiro Wilk\n",
    "from scipy.stats import normaltest  # D’Agostino’s K^2\n",
    "from scipy.stats import anderson    # Anderson-Darling\n",
    "from scipy.stats import ttest_ind    # independent student t-test; assumes normality\n",
    "from scipy.stats import mannwhitneyu # non-parametric; doesn't assume normality\n",
    "\n",
    "# Visualisation\n",
    "import matplotlib.pyplot as plot \n",
    "import seaborn as sns\n",
    "from IPython.display import SVG\n",
    "from graphviz import Source\n",
    "from IPython.display import display\n",
    "from sklearn.tree import export_graphviz\n"
   ]
  },
  {
   "cell_type": "code",
   "execution_count": 35,
   "metadata": {},
   "outputs": [],
   "source": [
    "%matplotlib inline"
   ]
  },
  {
   "cell_type": "code",
   "execution_count": 36,
   "metadata": {},
   "outputs": [],
   "source": [
    "import matplotlib.pyplot as plt\n",
    "import numpy as np\n",
    "import pandas as pd\n",
    "import seaborn as sns\n",
    "from sklearn import preprocessing\n",
    "from sklearn.preprocessing import StandardScaler\n",
    "from sklearn.preprocessing import MinMaxScaler\n",
    "from sklearn.model_selection import train_test_split\n",
    "from sklearn.neighbors import KNeighborsClassifier\n",
    "from collections import defaultdict\n",
    "from sklearn.metrics import classification_report\n",
    "from sklearn.model_selection import RepeatedStratifiedKFold \n",
    "from sklearn.model_selection import cross_val_predict"
   ]
  },
  {
   "cell_type": "code",
   "execution_count": 37,
   "metadata": {},
   "outputs": [],
   "source": [
    "#loading data file\n",
    "df_sf = pd.read_csv('Datasets\\Police_Department_Incidents.csv')"
   ]
  },
  {
   "cell_type": "code",
   "execution_count": 38,
   "metadata": {},
   "outputs": [
    {
     "data": {
      "text/plain": [
       "IncidntNum    0\n",
       "Category      0\n",
       "Descript      0\n",
       "DayOfWeek     0\n",
       "Date          0\n",
       "Time          0\n",
       "PdDistrict    0\n",
       "Resolution    0\n",
       "Address       0\n",
       "X             0\n",
       "Y             0\n",
       "Location      0\n",
       "PdId          0\n",
       "dtype: int64"
      ]
     },
     "execution_count": 38,
     "metadata": {},
     "output_type": "execute_result"
    }
   ],
   "source": [
    "#preprocessing\n",
    "#handling unique missing value by dropping it\n",
    "df_sf = df_sf.dropna()\n",
    "df_sf.isnull().sum() "
   ]
  },
  {
   "cell_type": "code",
   "execution_count": 39,
   "metadata": {},
   "outputs": [
    {
     "data": {
      "text/plain": [
       "Index(['IncidntNum', 'Category', 'Descript', 'DayOfWeek', 'Date', 'Time',\n",
       "       'PdDistrict', 'Resolution', 'Address', 'Location'],\n",
       "      dtype='object')"
      ]
     },
     "execution_count": 39,
     "metadata": {},
     "output_type": "execute_result"
    }
   ],
   "source": [
    "#selecting object values to tranform into int \n",
    "sel = df_sf.select_dtypes(exclude=['float64']).columns \n",
    "sel "
   ]
  },
  {
   "cell_type": "code",
   "execution_count": 40,
   "metadata": {},
   "outputs": [
    {
     "name": "stdout",
     "output_type": "stream",
     "text": [
      "<class 'pandas.core.frame.DataFrame'>\n",
      "Int64Index: 150499 entries, 0 to 150499\n",
      "Data columns (total 13 columns):\n",
      " #   Column      Non-Null Count   Dtype  \n",
      "---  ------      --------------   -----  \n",
      " 0   IncidntNum  150499 non-null  int32  \n",
      " 1   Category    150499 non-null  int32  \n",
      " 2   Descript    150499 non-null  int32  \n",
      " 3   DayOfWeek   150499 non-null  int32  \n",
      " 4   Date        150499 non-null  int32  \n",
      " 5   Time        150499 non-null  int32  \n",
      " 6   PdDistrict  150499 non-null  int32  \n",
      " 7   Resolution  150499 non-null  int32  \n",
      " 8   Address     150499 non-null  int32  \n",
      " 9   X           150499 non-null  float64\n",
      " 10  Y           150499 non-null  float64\n",
      " 11  Location    150499 non-null  int32  \n",
      " 12  PdId        150499 non-null  float64\n",
      "dtypes: float64(3), int32(10)\n",
      "memory usage: 10.3 MB\n"
     ]
    }
   ],
   "source": [
    "encode = defaultdict(preprocessing.LabelEncoder)\n",
    "df_sf[sel] = df_sf[sel].apply(lambda x: encode[x.name].fit_transform(x.astype(str)))\n",
    "df_sf.info()"
   ]
  },
  {
   "cell_type": "code",
   "execution_count": 41,
   "metadata": {},
   "outputs": [],
   "source": [
    "#feature selection\n",
    "df_sf = df_sf.drop(columns='IncidntNum')"
   ]
  },
  {
   "cell_type": "code",
   "execution_count": 42,
   "metadata": {},
   "outputs": [
    {
     "data": {
      "text/plain": [
       "Index(['Category', 'Descript', 'DayOfWeek', 'Date', 'Time', 'PdDistrict',\n",
       "       'Resolution', 'Address', 'X', 'Y', 'Location', 'PdId'],\n",
       "      dtype='object')"
      ]
     },
     "execution_count": 42,
     "metadata": {},
     "output_type": "execute_result"
    }
   ],
   "source": [
    "df_sf.columns"
   ]
  },
  {
   "cell_type": "code",
   "execution_count": 43,
   "metadata": {},
   "outputs": [
    {
     "data": {
      "text/html": [
       "<div>\n",
       "<style scoped>\n",
       "    .dataframe tbody tr th:only-of-type {\n",
       "        vertical-align: middle;\n",
       "    }\n",
       "\n",
       "    .dataframe tbody tr th {\n",
       "        vertical-align: top;\n",
       "    }\n",
       "\n",
       "    .dataframe thead th {\n",
       "        text-align: right;\n",
       "    }\n",
       "</style>\n",
       "<table border=\"1\" class=\"dataframe\">\n",
       "  <thead>\n",
       "    <tr style=\"text-align: right;\">\n",
       "      <th></th>\n",
       "      <th>Category</th>\n",
       "      <th>Descript</th>\n",
       "      <th>DayOfWeek</th>\n",
       "      <th>Date</th>\n",
       "      <th>Time</th>\n",
       "      <th>PdDistrict</th>\n",
       "      <th>Resolution</th>\n",
       "      <th>Address</th>\n",
       "      <th>X</th>\n",
       "      <th>Y</th>\n",
       "      <th>Location</th>\n",
       "      <th>PdId</th>\n",
       "    </tr>\n",
       "  </thead>\n",
       "  <tbody>\n",
       "    <tr>\n",
       "      <th>count</th>\n",
       "      <td>150499.000000</td>\n",
       "      <td>150499.000000</td>\n",
       "      <td>150499.000000</td>\n",
       "      <td>150499.000000</td>\n",
       "      <td>150499.000000</td>\n",
       "      <td>150499.000000</td>\n",
       "      <td>150499.000000</td>\n",
       "      <td>150499.000000</td>\n",
       "      <td>150499.000000</td>\n",
       "      <td>150499.000000</td>\n",
       "      <td>150499.000000</td>\n",
       "      <td>1.504990e+05</td>\n",
       "    </tr>\n",
       "    <tr>\n",
       "      <th>mean</th>\n",
       "      <td>19.338653</td>\n",
       "      <td>369.139071</td>\n",
       "      <td>2.960292</td>\n",
       "      <td>180.615745</td>\n",
       "      <td>607.564934</td>\n",
       "      <td>4.358720</td>\n",
       "      <td>6.635074</td>\n",
       "      <td>7085.819673</td>\n",
       "      <td>-122.423599</td>\n",
       "      <td>37.768921</td>\n",
       "      <td>11530.241470</td>\n",
       "      <td>1.616440e+13</td>\n",
       "    </tr>\n",
       "    <tr>\n",
       "      <th>std</th>\n",
       "      <td>10.218805</td>\n",
       "      <td>181.796489</td>\n",
       "      <td>2.019448</td>\n",
       "      <td>105.981944</td>\n",
       "      <td>386.541916</td>\n",
       "      <td>2.781658</td>\n",
       "      <td>4.006033</td>\n",
       "      <td>4316.813492</td>\n",
       "      <td>0.026210</td>\n",
       "      <td>0.023637</td>\n",
       "      <td>5050.469311</td>\n",
       "      <td>5.535983e+11</td>\n",
       "    </tr>\n",
       "    <tr>\n",
       "      <th>min</th>\n",
       "      <td>0.000000</td>\n",
       "      <td>0.000000</td>\n",
       "      <td>0.000000</td>\n",
       "      <td>0.000000</td>\n",
       "      <td>0.000000</td>\n",
       "      <td>0.000000</td>\n",
       "      <td>0.000000</td>\n",
       "      <td>0.000000</td>\n",
       "      <td>-122.513642</td>\n",
       "      <td>37.707922</td>\n",
       "      <td>0.000000</td>\n",
       "      <td>1.135120e+12</td>\n",
       "    </tr>\n",
       "    <tr>\n",
       "      <th>25%</th>\n",
       "      <td>16.000000</td>\n",
       "      <td>269.000000</td>\n",
       "      <td>1.000000</td>\n",
       "      <td>88.000000</td>\n",
       "      <td>299.000000</td>\n",
       "      <td>2.000000</td>\n",
       "      <td>0.000000</td>\n",
       "      <td>3296.000000</td>\n",
       "      <td>-122.434036</td>\n",
       "      <td>37.756486</td>\n",
       "      <td>8303.000000</td>\n",
       "      <td>1.603280e+13</td>\n",
       "    </tr>\n",
       "    <tr>\n",
       "      <th>50%</th>\n",
       "      <td>20.000000</td>\n",
       "      <td>359.000000</td>\n",
       "      <td>3.000000</td>\n",
       "      <td>180.000000</td>\n",
       "      <td>554.000000</td>\n",
       "      <td>4.000000</td>\n",
       "      <td>9.000000</td>\n",
       "      <td>7039.000000</td>\n",
       "      <td>-122.416903</td>\n",
       "      <td>37.775421</td>\n",
       "      <td>12617.000000</td>\n",
       "      <td>1.606540e+13</td>\n",
       "    </tr>\n",
       "    <tr>\n",
       "      <th>75%</th>\n",
       "      <td>24.000000</td>\n",
       "      <td>467.000000</td>\n",
       "      <td>5.000000</td>\n",
       "      <td>272.000000</td>\n",
       "      <td>856.000000</td>\n",
       "      <td>7.000000</td>\n",
       "      <td>9.000000</td>\n",
       "      <td>9741.000000</td>\n",
       "      <td>-122.406605</td>\n",
       "      <td>37.785063</td>\n",
       "      <td>15261.000000</td>\n",
       "      <td>1.609760e+13</td>\n",
       "    </tr>\n",
       "    <tr>\n",
       "      <th>max</th>\n",
       "      <td>38.000000</td>\n",
       "      <td>725.000000</td>\n",
       "      <td>6.000000</td>\n",
       "      <td>365.000000</td>\n",
       "      <td>1438.000000</td>\n",
       "      <td>9.000000</td>\n",
       "      <td>13.000000</td>\n",
       "      <td>16128.000000</td>\n",
       "      <td>-122.365565</td>\n",
       "      <td>37.819975</td>\n",
       "      <td>19384.000000</td>\n",
       "      <td>9.910090e+13</td>\n",
       "    </tr>\n",
       "  </tbody>\n",
       "</table>\n",
       "</div>"
      ],
      "text/plain": [
       "            Category       Descript      DayOfWeek           Date  \\\n",
       "count  150499.000000  150499.000000  150499.000000  150499.000000   \n",
       "mean       19.338653     369.139071       2.960292     180.615745   \n",
       "std        10.218805     181.796489       2.019448     105.981944   \n",
       "min         0.000000       0.000000       0.000000       0.000000   \n",
       "25%        16.000000     269.000000       1.000000      88.000000   \n",
       "50%        20.000000     359.000000       3.000000     180.000000   \n",
       "75%        24.000000     467.000000       5.000000     272.000000   \n",
       "max        38.000000     725.000000       6.000000     365.000000   \n",
       "\n",
       "                Time     PdDistrict     Resolution        Address  \\\n",
       "count  150499.000000  150499.000000  150499.000000  150499.000000   \n",
       "mean      607.564934       4.358720       6.635074    7085.819673   \n",
       "std       386.541916       2.781658       4.006033    4316.813492   \n",
       "min         0.000000       0.000000       0.000000       0.000000   \n",
       "25%       299.000000       2.000000       0.000000    3296.000000   \n",
       "50%       554.000000       4.000000       9.000000    7039.000000   \n",
       "75%       856.000000       7.000000       9.000000    9741.000000   \n",
       "max      1438.000000       9.000000      13.000000   16128.000000   \n",
       "\n",
       "                   X              Y       Location          PdId  \n",
       "count  150499.000000  150499.000000  150499.000000  1.504990e+05  \n",
       "mean     -122.423599      37.768921   11530.241470  1.616440e+13  \n",
       "std         0.026210       0.023637    5050.469311  5.535983e+11  \n",
       "min      -122.513642      37.707922       0.000000  1.135120e+12  \n",
       "25%      -122.434036      37.756486    8303.000000  1.603280e+13  \n",
       "50%      -122.416903      37.775421   12617.000000  1.606540e+13  \n",
       "75%      -122.406605      37.785063   15261.000000  1.609760e+13  \n",
       "max      -122.365565      37.819975   19384.000000  9.910090e+13  "
      ]
     },
     "execution_count": 43,
     "metadata": {},
     "output_type": "execute_result"
    }
   ],
   "source": [
    "df_sf.describe()"
   ]
  },
  {
   "cell_type": "code",
   "execution_count": 44,
   "metadata": {},
   "outputs": [],
   "source": [
    "X = df_sf[['Descript', 'DayOfWeek', 'Date', 'Time', 'PdDistrict', \n",
    "           'Resolution', 'Address', 'X', 'Y', 'Location', 'PdId']]\n",
    "y = df_sf['Category']"
   ]
  },
  {
   "cell_type": "code",
   "execution_count": 45,
   "metadata": {},
   "outputs": [
    {
     "data": {
      "text/plain": [
       "16    40408\n",
       "21    19599\n",
       "20    17866\n",
       "1     13577\n",
       "35     8589\n",
       "36     6419\n",
       "37     5914\n",
       "4      5802\n",
       "32     5782\n",
       "19     4338\n",
       "7      4243\n",
       "25     3299\n",
       "13     2635\n",
       "27     1841\n",
       "34     1812\n",
       "38     1658\n",
       "28      940\n",
       "30      882\n",
       "24      736\n",
       "5       658\n",
       "23      641\n",
       "12      619\n",
       "8       465\n",
       "6       378\n",
       "0       286\n",
       "15      257\n",
       "9       168\n",
       "17      156\n",
       "26      140\n",
       "31       69\n",
       "3        66\n",
       "10       60\n",
       "11       53\n",
       "18       42\n",
       "29       40\n",
       "2        34\n",
       "14       20\n",
       "22        4\n",
       "33        3\n",
       "Name: Category, dtype: int64"
      ]
     },
     "execution_count": 45,
     "metadata": {},
     "output_type": "execute_result"
    }
   ],
   "source": [
    "y.value_counts()"
   ]
  },
  {
   "cell_type": "code",
   "execution_count": 46,
   "metadata": {},
   "outputs": [
    {
     "name": "stderr",
     "output_type": "stream",
     "text": [
      "c:\\users\\sofik\\appdata\\local\\programs\\python\\python38\\lib\\site-packages\\sklearn\\model_selection\\_split.py:670: UserWarning: The least populated class in y has only 3 members, which is less than n_splits=5.\n",
      "  warnings.warn((\"The least populated class in y has only %d\"\n"
     ]
    },
    {
     "name": "stdout",
     "output_type": "stream",
     "text": [
      "RFECV took 26.82 seconds to identify 1 features\n",
      "[ 1 10  6  7 11  3  8  4  9  5  2]\n"
     ]
    }
   ],
   "source": [
    "model = DecisionTreeClassifier()\n",
    "# Instantiating (setting up) RFE\n",
    "rfecv = RFECV(estimator=model, step=1, cv=StratifiedKFold(), scoring='accuracy')\n",
    "start_time = time()\n",
    "rfecv.fit(X, y)\n",
    "end_time = time()\n",
    "# Printing out the results\n",
    "print(\"RFECV took %.2f seconds to identify %d features\" % \n",
    "      ((end_time - start_time), rfecv.n_features_))\n",
    "print(rfecv.ranking_)\n"
   ]
  },
  {
   "cell_type": "code",
   "execution_count": 47,
   "metadata": {},
   "outputs": [
    {
     "data": {
      "text/html": [
       "<div>\n",
       "<style scoped>\n",
       "    .dataframe tbody tr th:only-of-type {\n",
       "        vertical-align: middle;\n",
       "    }\n",
       "\n",
       "    .dataframe tbody tr th {\n",
       "        vertical-align: top;\n",
       "    }\n",
       "\n",
       "    .dataframe thead th {\n",
       "        text-align: right;\n",
       "    }\n",
       "</style>\n",
       "<table border=\"1\" class=\"dataframe\">\n",
       "  <thead>\n",
       "    <tr style=\"text-align: right;\">\n",
       "      <th></th>\n",
       "      <th>feature</th>\n",
       "      <th>rank</th>\n",
       "    </tr>\n",
       "  </thead>\n",
       "  <tbody>\n",
       "    <tr>\n",
       "      <th>0</th>\n",
       "      <td>Descript</td>\n",
       "      <td>1</td>\n",
       "    </tr>\n",
       "    <tr>\n",
       "      <th>10</th>\n",
       "      <td>PdId</td>\n",
       "      <td>2</td>\n",
       "    </tr>\n",
       "    <tr>\n",
       "      <th>5</th>\n",
       "      <td>Resolution</td>\n",
       "      <td>3</td>\n",
       "    </tr>\n",
       "    <tr>\n",
       "      <th>7</th>\n",
       "      <td>X</td>\n",
       "      <td>4</td>\n",
       "    </tr>\n",
       "    <tr>\n",
       "      <th>9</th>\n",
       "      <td>Location</td>\n",
       "      <td>5</td>\n",
       "    </tr>\n",
       "    <tr>\n",
       "      <th>2</th>\n",
       "      <td>Date</td>\n",
       "      <td>6</td>\n",
       "    </tr>\n",
       "    <tr>\n",
       "      <th>3</th>\n",
       "      <td>Time</td>\n",
       "      <td>7</td>\n",
       "    </tr>\n",
       "    <tr>\n",
       "      <th>6</th>\n",
       "      <td>Address</td>\n",
       "      <td>8</td>\n",
       "    </tr>\n",
       "    <tr>\n",
       "      <th>8</th>\n",
       "      <td>Y</td>\n",
       "      <td>9</td>\n",
       "    </tr>\n",
       "    <tr>\n",
       "      <th>1</th>\n",
       "      <td>DayOfWeek</td>\n",
       "      <td>10</td>\n",
       "    </tr>\n",
       "    <tr>\n",
       "      <th>4</th>\n",
       "      <td>PdDistrict</td>\n",
       "      <td>11</td>\n",
       "    </tr>\n",
       "  </tbody>\n",
       "</table>\n",
       "</div>"
      ],
      "text/plain": [
       "       feature  rank\n",
       "0     Descript     1\n",
       "10        PdId     2\n",
       "5   Resolution     3\n",
       "7            X     4\n",
       "9     Location     5\n",
       "2         Date     6\n",
       "3         Time     7\n",
       "6      Address     8\n",
       "8            Y     9\n",
       "1    DayOfWeek    10\n",
       "4   PdDistrict    11"
      ]
     },
     "execution_count": 47,
     "metadata": {},
     "output_type": "execute_result"
    }
   ],
   "source": [
    "feature_ranking_df = np.array([])\n",
    "feature_ranking_df = pd.DataFrame()\n",
    "feature_ranking_df['feature'] = X.columns\n",
    "feature_ranking_df['rank'] = rfecv.ranking_\n",
    "feature_ranking_df = feature_ranking_df.sort_values(by='rank', ascending=True)\n",
    "feature_ranking_df"
   ]
  },
  {
   "cell_type": "code",
   "execution_count": 56,
   "metadata": {},
   "outputs": [],
   "source": [
    "#now lets try PCA (principal component analysis) for dimensionality reduction\n",
    "from sklearn.decomposition import PCA\n",
    "pca = PCA(n_components = 11) # 2D PCA for the plot\n",
    "X_reduced = pd.DataFrame(pca.fit_transform(X))"
   ]
  },
  {
   "cell_type": "code",
   "execution_count": 57,
   "metadata": {},
   "outputs": [
    {
     "data": {
      "text/html": [
       "<div>\n",
       "<style scoped>\n",
       "    .dataframe tbody tr th:only-of-type {\n",
       "        vertical-align: middle;\n",
       "    }\n",
       "\n",
       "    .dataframe tbody tr th {\n",
       "        vertical-align: top;\n",
       "    }\n",
       "\n",
       "    .dataframe thead th {\n",
       "        text-align: right;\n",
       "    }\n",
       "</style>\n",
       "<table border=\"1\" class=\"dataframe\">\n",
       "  <thead>\n",
       "    <tr style=\"text-align: right;\">\n",
       "      <th></th>\n",
       "      <th>feature</th>\n",
       "      <th>rank</th>\n",
       "    </tr>\n",
       "  </thead>\n",
       "  <tbody>\n",
       "    <tr>\n",
       "      <th>0</th>\n",
       "      <td>0</td>\n",
       "      <td>1</td>\n",
       "    </tr>\n",
       "    <tr>\n",
       "      <th>10</th>\n",
       "      <td>10</td>\n",
       "      <td>2</td>\n",
       "    </tr>\n",
       "    <tr>\n",
       "      <th>5</th>\n",
       "      <td>5</td>\n",
       "      <td>3</td>\n",
       "    </tr>\n",
       "    <tr>\n",
       "      <th>7</th>\n",
       "      <td>7</td>\n",
       "      <td>4</td>\n",
       "    </tr>\n",
       "    <tr>\n",
       "      <th>9</th>\n",
       "      <td>9</td>\n",
       "      <td>5</td>\n",
       "    </tr>\n",
       "    <tr>\n",
       "      <th>2</th>\n",
       "      <td>2</td>\n",
       "      <td>6</td>\n",
       "    </tr>\n",
       "    <tr>\n",
       "      <th>3</th>\n",
       "      <td>3</td>\n",
       "      <td>7</td>\n",
       "    </tr>\n",
       "    <tr>\n",
       "      <th>6</th>\n",
       "      <td>6</td>\n",
       "      <td>8</td>\n",
       "    </tr>\n",
       "    <tr>\n",
       "      <th>8</th>\n",
       "      <td>8</td>\n",
       "      <td>9</td>\n",
       "    </tr>\n",
       "    <tr>\n",
       "      <th>1</th>\n",
       "      <td>1</td>\n",
       "      <td>10</td>\n",
       "    </tr>\n",
       "    <tr>\n",
       "      <th>4</th>\n",
       "      <td>4</td>\n",
       "      <td>11</td>\n",
       "    </tr>\n",
       "  </tbody>\n",
       "</table>\n",
       "</div>"
      ],
      "text/plain": [
       "    feature  rank\n",
       "0         0     1\n",
       "10       10     2\n",
       "5         5     3\n",
       "7         7     4\n",
       "9         9     5\n",
       "2         2     6\n",
       "3         3     7\n",
       "6         6     8\n",
       "8         8     9\n",
       "1         1    10\n",
       "4         4    11"
      ]
     },
     "execution_count": 57,
     "metadata": {},
     "output_type": "execute_result"
    }
   ],
   "source": [
    "list(X_reduced.columns) \n",
    "feature_ranking_df = np.array([])\n",
    "feature_ranking_df = pd.DataFrame()\n",
    "feature_ranking_df['feature'] = X_reduced.columns\n",
    "feature_ranking_df['rank'] = rfecv.ranking_\n",
    "feature_ranking_df = feature_ranking_df.sort_values(by='rank', ascending=True)\n",
    "feature_ranking_df"
   ]
  },
  {
   "cell_type": "code",
   "execution_count": null,
   "metadata": {},
   "outputs": [],
   "source": [
    "#for district"
   ]
  },
  {
   "cell_type": "code",
   "execution_count": 58,
   "metadata": {},
   "outputs": [],
   "source": [
    "X_2 = df_sf[['Descript', 'DayOfWeek', 'Date', 'Time', 'Category', \n",
    "            'Resolution', 'Address', 'X', 'Y', 'Location', 'PdId']]\n",
    "y_2 = df_sf['PdDistrict']"
   ]
  },
  {
   "cell_type": "code",
   "execution_count": 59,
   "metadata": {},
   "outputs": [
    {
     "data": {
      "text/plain": [
       "7    28445\n",
       "4    20100\n",
       "3    19503\n",
       "1    17666\n",
       "0    14303\n",
       "2    11594\n",
       "8    11325\n",
       "9     9942\n",
       "6     8922\n",
       "5     8699\n",
       "Name: PdDistrict, dtype: int64"
      ]
     },
     "execution_count": 59,
     "metadata": {},
     "output_type": "execute_result"
    }
   ],
   "source": [
    "y_2.value_counts()"
   ]
  },
  {
   "cell_type": "code",
   "execution_count": 60,
   "metadata": {},
   "outputs": [
    {
     "name": "stdout",
     "output_type": "stream",
     "text": [
      "RFECV took 28.76 seconds to identify 3 features\n",
      "[6 7 5 4 8 9 3 1 1 1 2]\n"
     ]
    }
   ],
   "source": [
    "rfecv = RFECV(estimator=model, step=1, cv=StratifiedKFold(), scoring='accuracy')\n",
    "start_time = time()\n",
    "rfecv.fit(X_2, y_2)\n",
    "end_time = time()\n",
    "# Printing out the results\n",
    "print(\"RFECV took %.2f seconds to identify %d features\" % \n",
    "      ((end_time - start_time), rfecv.n_features_))\n",
    "print(rfecv.ranking_)"
   ]
  },
  {
   "cell_type": "code",
   "execution_count": 61,
   "metadata": {},
   "outputs": [
    {
     "data": {
      "text/html": [
       "<div>\n",
       "<style scoped>\n",
       "    .dataframe tbody tr th:only-of-type {\n",
       "        vertical-align: middle;\n",
       "    }\n",
       "\n",
       "    .dataframe tbody tr th {\n",
       "        vertical-align: top;\n",
       "    }\n",
       "\n",
       "    .dataframe thead th {\n",
       "        text-align: right;\n",
       "    }\n",
       "</style>\n",
       "<table border=\"1\" class=\"dataframe\">\n",
       "  <thead>\n",
       "    <tr style=\"text-align: right;\">\n",
       "      <th></th>\n",
       "      <th>feature</th>\n",
       "      <th>rank</th>\n",
       "    </tr>\n",
       "  </thead>\n",
       "  <tbody>\n",
       "    <tr>\n",
       "      <th>7</th>\n",
       "      <td>X</td>\n",
       "      <td>1</td>\n",
       "    </tr>\n",
       "    <tr>\n",
       "      <th>8</th>\n",
       "      <td>Y</td>\n",
       "      <td>1</td>\n",
       "    </tr>\n",
       "    <tr>\n",
       "      <th>9</th>\n",
       "      <td>Location</td>\n",
       "      <td>1</td>\n",
       "    </tr>\n",
       "    <tr>\n",
       "      <th>10</th>\n",
       "      <td>PdId</td>\n",
       "      <td>2</td>\n",
       "    </tr>\n",
       "    <tr>\n",
       "      <th>6</th>\n",
       "      <td>Address</td>\n",
       "      <td>3</td>\n",
       "    </tr>\n",
       "    <tr>\n",
       "      <th>3</th>\n",
       "      <td>Time</td>\n",
       "      <td>4</td>\n",
       "    </tr>\n",
       "    <tr>\n",
       "      <th>2</th>\n",
       "      <td>Date</td>\n",
       "      <td>5</td>\n",
       "    </tr>\n",
       "    <tr>\n",
       "      <th>0</th>\n",
       "      <td>Descript</td>\n",
       "      <td>6</td>\n",
       "    </tr>\n",
       "    <tr>\n",
       "      <th>1</th>\n",
       "      <td>DayOfWeek</td>\n",
       "      <td>7</td>\n",
       "    </tr>\n",
       "    <tr>\n",
       "      <th>4</th>\n",
       "      <td>Category</td>\n",
       "      <td>8</td>\n",
       "    </tr>\n",
       "    <tr>\n",
       "      <th>5</th>\n",
       "      <td>Resolution</td>\n",
       "      <td>9</td>\n",
       "    </tr>\n",
       "  </tbody>\n",
       "</table>\n",
       "</div>"
      ],
      "text/plain": [
       "       feature  rank\n",
       "7            X     1\n",
       "8            Y     1\n",
       "9     Location     1\n",
       "10        PdId     2\n",
       "6      Address     3\n",
       "3         Time     4\n",
       "2         Date     5\n",
       "0     Descript     6\n",
       "1    DayOfWeek     7\n",
       "4     Category     8\n",
       "5   Resolution     9"
      ]
     },
     "execution_count": 61,
     "metadata": {},
     "output_type": "execute_result"
    }
   ],
   "source": [
    "feature_ranking_df = np.array([])\n",
    "feature_ranking_df = pd.DataFrame()\n",
    "feature_ranking_df['feature'] = X_2.columns\n",
    "feature_ranking_df['rank'] = rfecv.ranking_\n",
    "feature_ranking_df = feature_ranking_df.sort_values(by='rank', ascending=True)\n",
    "feature_ranking_df"
   ]
  },
  {
   "cell_type": "code",
   "execution_count": 82,
   "metadata": {},
   "outputs": [],
   "source": [
    "#now lets try PCA (principal component analysis) for dimensionality reduction\n",
    "from sklearn.decomposition import PCA\n",
    "pca = PCA(n_components = 11) # 2D PCA for the plot\n",
    "X_reduced = pd.DataFrame(pca.fit_transform(X_2))"
   ]
  },
  {
   "cell_type": "code",
   "execution_count": 83,
   "metadata": {},
   "outputs": [
    {
     "data": {
      "text/html": [
       "<div>\n",
       "<style scoped>\n",
       "    .dataframe tbody tr th:only-of-type {\n",
       "        vertical-align: middle;\n",
       "    }\n",
       "\n",
       "    .dataframe tbody tr th {\n",
       "        vertical-align: top;\n",
       "    }\n",
       "\n",
       "    .dataframe thead th {\n",
       "        text-align: right;\n",
       "    }\n",
       "</style>\n",
       "<table border=\"1\" class=\"dataframe\">\n",
       "  <thead>\n",
       "    <tr style=\"text-align: right;\">\n",
       "      <th></th>\n",
       "      <th>feature</th>\n",
       "      <th>rank</th>\n",
       "    </tr>\n",
       "  </thead>\n",
       "  <tbody>\n",
       "    <tr>\n",
       "      <th>7</th>\n",
       "      <td>7</td>\n",
       "      <td>1</td>\n",
       "    </tr>\n",
       "    <tr>\n",
       "      <th>8</th>\n",
       "      <td>8</td>\n",
       "      <td>1</td>\n",
       "    </tr>\n",
       "    <tr>\n",
       "      <th>9</th>\n",
       "      <td>9</td>\n",
       "      <td>1</td>\n",
       "    </tr>\n",
       "    <tr>\n",
       "      <th>10</th>\n",
       "      <td>10</td>\n",
       "      <td>2</td>\n",
       "    </tr>\n",
       "    <tr>\n",
       "      <th>6</th>\n",
       "      <td>6</td>\n",
       "      <td>3</td>\n",
       "    </tr>\n",
       "    <tr>\n",
       "      <th>3</th>\n",
       "      <td>3</td>\n",
       "      <td>4</td>\n",
       "    </tr>\n",
       "    <tr>\n",
       "      <th>2</th>\n",
       "      <td>2</td>\n",
       "      <td>5</td>\n",
       "    </tr>\n",
       "    <tr>\n",
       "      <th>0</th>\n",
       "      <td>0</td>\n",
       "      <td>6</td>\n",
       "    </tr>\n",
       "    <tr>\n",
       "      <th>1</th>\n",
       "      <td>1</td>\n",
       "      <td>7</td>\n",
       "    </tr>\n",
       "    <tr>\n",
       "      <th>4</th>\n",
       "      <td>4</td>\n",
       "      <td>8</td>\n",
       "    </tr>\n",
       "    <tr>\n",
       "      <th>5</th>\n",
       "      <td>5</td>\n",
       "      <td>9</td>\n",
       "    </tr>\n",
       "  </tbody>\n",
       "</table>\n",
       "</div>"
      ],
      "text/plain": [
       "    feature  rank\n",
       "7         7     1\n",
       "8         8     1\n",
       "9         9     1\n",
       "10       10     2\n",
       "6         6     3\n",
       "3         3     4\n",
       "2         2     5\n",
       "0         0     6\n",
       "1         1     7\n",
       "4         4     8\n",
       "5         5     9"
      ]
     },
     "execution_count": 83,
     "metadata": {},
     "output_type": "execute_result"
    }
   ],
   "source": [
    "list(X_reduced.columns) \n",
    "feature_ranking_df = np.array([])\n",
    "feature_ranking_df = pd.DataFrame()\n",
    "feature_ranking_df['feature'] = X_reduced.columns\n",
    "feature_ranking_df['rank'] = rfecv.ranking_\n",
    "feature_ranking_df = feature_ranking_df.sort_values(by='rank', ascending=True)\n",
    "feature_ranking_df"
   ]
  },
  {
   "cell_type": "code",
   "execution_count": null,
   "metadata": {},
   "outputs": [],
   "source": [
    "#for location"
   ]
  },
  {
   "cell_type": "code",
   "execution_count": 78,
   "metadata": {},
   "outputs": [],
   "source": [
    "X_3 = df_sf[['Descript', 'DayOfWeek', 'Date', 'Time', 'Category', \n",
    "            'Resolution', 'Address', 'X', 'Y', 'PdDistrict', 'PdId']]\n",
    "y_3 = df_sf['Location']"
   ]
  },
  {
   "cell_type": "code",
   "execution_count": 79,
   "metadata": {},
   "outputs": [
    {
     "data": {
      "text/plain": [
       "12617    3536\n",
       "8303      625\n",
       "15041     624\n",
       "15261     513\n",
       "10437     494\n",
       "         ... \n",
       "9644        1\n",
       "10706       1\n",
       "4250        1\n",
       "16735       1\n",
       "7508        1\n",
       "Name: Location, Length: 19385, dtype: int64"
      ]
     },
     "execution_count": 79,
     "metadata": {},
     "output_type": "execute_result"
    }
   ],
   "source": [
    "y_3.value_counts()"
   ]
  },
  {
   "cell_type": "code",
   "execution_count": null,
   "metadata": {},
   "outputs": [],
   "source": [
    "rfecv = RFECV(estimator=model, step=1, cv=StratifiedKFold(), scoring='accuracy')\n",
    "start_time = time()\n",
    "rfecv.fit(X_2, y_2)\n",
    "end_time = time()\n",
    "# Printing out the results\n",
    "print(\"RFECV took %.2f seconds to identify %d features\" % \n",
    "      ((end_time - start_time), rfecv.n_features_))\n",
    "print(rfecv.ranking_)"
   ]
  },
  {
   "cell_type": "code",
   "execution_count": null,
   "metadata": {},
   "outputs": [],
   "source": [
    "feature_ranking_df = np.array([])\n",
    "feature_ranking_df = pd.DataFrame()\n",
    "feature_ranking_df['feature'] = X_2.columns\n",
    "feature_ranking_df['rank'] = rfecv.ranking_\n",
    "feature_ranking_df = feature_ranking_df.sort_values(by='rank', ascending=True)\n",
    "feature_ranking_df"
   ]
  },
  {
   "cell_type": "code",
   "execution_count": null,
   "metadata": {},
   "outputs": [],
   "source": [
    "#now lets try PCA (principal component analysis) for dimensionality reduction\n",
    "from sklearn.decomposition import PCA\n",
    "pca = PCA(n_components = 11) # 2D PCA for the plot\n",
    "X_reduced = pd.DataFrame(pca.fit_transform(X))"
   ]
  },
  {
   "cell_type": "code",
   "execution_count": null,
   "metadata": {},
   "outputs": [],
   "source": [
    "list(X_reduced.columns) \n",
    "feature_ranking_df = np.array([])\n",
    "feature_ranking_df = pd.DataFrame()\n",
    "feature_ranking_df['feature'] = X_reduced.columns\n",
    "feature_ranking_df['rank'] = rfecv.ranking_\n",
    "feature_ranking_df = feature_ranking_df.sort_values(by='rank', ascending=True)\n",
    "feature_ranking_df"
   ]
  }
 ],
 "metadata": {
  "kernelspec": {
   "display_name": "Python 3 (ipykernel)",
   "language": "python",
   "name": "python3"
  },
  "language_info": {
   "codemirror_mode": {
    "name": "ipython",
    "version": 3
   },
   "file_extension": ".py",
   "mimetype": "text/x-python",
   "name": "python",
   "nbconvert_exporter": "python",
   "pygments_lexer": "ipython3",
   "version": "3.9.7"
  }
 },
 "nbformat": 4,
 "nbformat_minor": 4
}
